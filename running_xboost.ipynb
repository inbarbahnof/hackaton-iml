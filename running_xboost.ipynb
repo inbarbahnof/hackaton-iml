{
 "cells": [
  {
   "cell_type": "code",
   "execution_count": 3,
   "metadata": {},
   "outputs": [],
   "source": [
    "import pandas as pd \n",
    "import numpy as np \n",
    "import sklearn.model_selection as sk\n",
    "from sklearn.preprocessing import LabelEncoder\n",
    "import xgboost as xgb\n",
    "import os\n",
    "from argparse import ArgumentParser\n",
    "import logging\n",
    "from typing import NoReturn\n",
    "from collections import Counter\n",
    "import pandas as pd\n",
    "import numpy as np\n",
    "import matplotlib.pyplot as plt\n",
    "import sklearn.model_selection as sk\n",
    "from sklearn.preprocessing import LabelEncoder\n",
    "from sklearn.model_selection import train_test_split\n",
    "from sklearn.linear_model import LinearRegression\n",
    "from sklearn.metrics import mean_squared_error, r2_score\n",
    "from sklearn.preprocessing import PolynomialFeatures\n",
    "from sklearn.tree import DecisionTreeRegressor\n",
    "import evaluation_scripts.eval_passengers_up as eval"
   ]
  },
  {
   "cell_type": "code",
   "execution_count": 131,
   "metadata": {},
   "outputs": [
    {
     "name": "stdout",
     "output_type": "stream",
     "text": [
      "Collecting xgboost\n",
      "  Downloading xgboost-2.1.0-py3-none-macosx_12_0_arm64.whl.metadata (2.1 kB)\n",
      "Requirement already satisfied: numpy in /opt/anaconda3/envs/iml.env/lib/python3.9/site-packages (from xgboost) (1.26.4)\n",
      "Requirement already satisfied: scipy in /opt/anaconda3/envs/iml.env/lib/python3.9/site-packages (from xgboost) (1.13.0)\n",
      "Downloading xgboost-2.1.0-py3-none-macosx_12_0_arm64.whl (1.9 MB)\n",
      "\u001B[2K   \u001B[90m━━━━━━━━━━━━━━━━━━━━━━━━━━━━━━━━━━━━━━━━\u001B[0m \u001B[32m1.9/1.9 MB\u001B[0m \u001B[31m4.9 MB/s\u001B[0m eta \u001B[36m0:00:00\u001B[0ma \u001B[36m0:00:01\u001B[0m0m\n",
      "\u001B[?25hInstalling collected packages: xgboost\n",
      "Successfully installed xgboost-2.1.0\n"
     ]
    }
   ],
   "source": [
    "!pip install xgboost"
   ]
  },
  {
   "cell_type": "code",
   "execution_count": 4,
   "metadata": {},
   "outputs": [],
   "source": [
    "TRAIN_BUS_CSV_PATH = \"data/train_bus_schedule.csv\"\n",
    "X_PASSENGER = \"data/X_passengers_up.csv\"\n",
    "X_TRIP = \"data/X_trip_duration.csv\"\n",
    "ENCODER = \"windows-1255\"\n",
    "RANDOM_STATE = 42"
   ]
  },
  {
   "cell_type": "code",
   "execution_count": 5,
   "metadata": {},
   "outputs": [],
   "source": [
    "train_bus = pd.read_csv(TRAIN_BUS_CSV_PATH, encoding=ENCODER)\n",
    "x_passenger = pd.read_csv(X_PASSENGER, encoding=ENCODER)\n",
    "x_trip_duration = pd.read_csv(X_TRIP, encoding=ENCODER)"
   ]
  },
  {
   "cell_type": "code",
   "execution_count": 6,
   "metadata": {},
   "outputs": [],
   "source": [
    "train_bus = pd.read_csv(TRAIN_BUS_CSV_PATH, encoding=ENCODER)\n",
    "x_passenger = pd.read_csv(X_PASSENGER, encoding=ENCODER)\n",
    "sample_size = 0.05  # 5% of the data\n",
    "xgboost_sample_size = 0.15\n",
    "baseline = train_bus.sample(frac=sample_size, random_state=RANDOM_STATE)\n",
    "remaining_data = train_bus.drop(baseline.index)\n",
    "\n",
    "xgboost_sample = remaining_data.sample(frac=xgboost_sample_size, random_state=RANDOM_STATE)\n",
    "xgboost_X = xgboost_sample[x_passenger.columns]\n",
    "xgboost_y = xgboost_sample[\"passengers_up\"]\n",
    "remaining_data = remaining_data.drop(xgboost_sample.index)"
   ]
  },
  {
   "cell_type": "code",
   "execution_count": 7,
   "metadata": {},
   "outputs": [],
   "source": [
    "xgboost_sample_test = xgboost_sample.copy()"
   ]
  },
  {
   "cell_type": "code",
   "execution_count": 8,
   "metadata": {},
   "outputs": [],
   "source": [
    "xgboost_sample_test['station_name'] = xgboost_sample_test['station_name'].str.split(r'[ /\\\\]')\n",
    "xgboost_X_exploded = xgboost_sample_test.explode('station_name').reset_index(drop=True)"
   ]
  },
  {
   "cell_type": "code",
   "execution_count": 9,
   "metadata": {},
   "outputs": [],
   "source": [
    "word_count = xgboost_X_exploded.groupby(\"station_name\")[\"passengers_up\"].describe().sort_values(by = \"50%\")"
   ]
  },
  {
   "cell_type": "code",
   "execution_count": 10,
   "metadata": {},
   "outputs": [
    {
     "data": {
      "text/html": [
       "<div>\n",
       "<style scoped>\n",
       "    .dataframe tbody tr th:only-of-type {\n",
       "        vertical-align: middle;\n",
       "    }\n",
       "\n",
       "    .dataframe tbody tr th {\n",
       "        vertical-align: top;\n",
       "    }\n",
       "\n",
       "    .dataframe thead th {\n",
       "        text-align: right;\n",
       "    }\n",
       "</style>\n",
       "<table border=\"1\" class=\"dataframe\">\n",
       "  <thead>\n",
       "    <tr style=\"text-align: right;\">\n",
       "      <th></th>\n",
       "      <th>trip_id</th>\n",
       "      <th>part</th>\n",
       "      <th>trip_id_unique_station</th>\n",
       "      <th>trip_id_unique</th>\n",
       "      <th>line_id</th>\n",
       "      <th>direction</th>\n",
       "      <th>alternative</th>\n",
       "      <th>cluster</th>\n",
       "      <th>station_index</th>\n",
       "      <th>station_id</th>\n",
       "      <th>station_name</th>\n",
       "      <th>arrival_time</th>\n",
       "      <th>door_closing_time</th>\n",
       "      <th>arrival_is_estimated</th>\n",
       "      <th>latitude</th>\n",
       "      <th>longitude</th>\n",
       "      <th>passengers_up</th>\n",
       "      <th>passengers_continue</th>\n",
       "      <th>mekadem_nipuach_luz</th>\n",
       "      <th>passengers_continue_menupach</th>\n",
       "    </tr>\n",
       "  </thead>\n",
       "  <tbody>\n",
       "    <tr>\n",
       "      <th>0</th>\n",
       "      <td>310854</td>\n",
       "      <td>ב</td>\n",
       "      <td>310854b39</td>\n",
       "      <td>310854b</td>\n",
       "      <td>27087</td>\n",
       "      <td>1</td>\n",
       "      <td>#</td>\n",
       "      <td>חולון עירוני ומטרופוליני+תחרות חולון</td>\n",
       "      <td>39</td>\n",
       "      <td>36060</td>\n",
       "      <td>רוטשילד</td>\n",
       "      <td>14:43:00</td>\n",
       "      <td>14:43:00</td>\n",
       "      <td>False</td>\n",
       "      <td>32.02666</td>\n",
       "      <td>34.742650</td>\n",
       "      <td>0</td>\n",
       "      <td>7</td>\n",
       "      <td>2.250000</td>\n",
       "      <td>15.750000</td>\n",
       "    </tr>\n",
       "    <tr>\n",
       "      <th>1</th>\n",
       "      <td>310854</td>\n",
       "      <td>ב</td>\n",
       "      <td>310854b39</td>\n",
       "      <td>310854b</td>\n",
       "      <td>27087</td>\n",
       "      <td>1</td>\n",
       "      <td>#</td>\n",
       "      <td>חולון עירוני ומטרופוליני+תחרות חולון</td>\n",
       "      <td>39</td>\n",
       "      <td>36060</td>\n",
       "      <td>הרצל</td>\n",
       "      <td>14:43:00</td>\n",
       "      <td>14:43:00</td>\n",
       "      <td>False</td>\n",
       "      <td>32.02666</td>\n",
       "      <td>34.742650</td>\n",
       "      <td>0</td>\n",
       "      <td>7</td>\n",
       "      <td>2.250000</td>\n",
       "      <td>15.750000</td>\n",
       "    </tr>\n",
       "    <tr>\n",
       "      <th>2</th>\n",
       "      <td>314556</td>\n",
       "      <td>ג</td>\n",
       "      <td>314556c30</td>\n",
       "      <td>314556c</td>\n",
       "      <td>23076</td>\n",
       "      <td>2</td>\n",
       "      <td>0</td>\n",
       "      <td>אונו-אלעד</td>\n",
       "      <td>30</td>\n",
       "      <td>31674</td>\n",
       "      <td>רוטשילד</td>\n",
       "      <td>09:02:00</td>\n",
       "      <td>09:02:00</td>\n",
       "      <td>False</td>\n",
       "      <td>32.08004</td>\n",
       "      <td>34.884193</td>\n",
       "      <td>2</td>\n",
       "      <td>16</td>\n",
       "      <td>2.000000</td>\n",
       "      <td>32.000000</td>\n",
       "    </tr>\n",
       "    <tr>\n",
       "      <th>3</th>\n",
       "      <td>314556</td>\n",
       "      <td>ג</td>\n",
       "      <td>314556c30</td>\n",
       "      <td>314556c</td>\n",
       "      <td>23076</td>\n",
       "      <td>2</td>\n",
       "      <td>0</td>\n",
       "      <td>אונו-אלעד</td>\n",
       "      <td>30</td>\n",
       "      <td>31674</td>\n",
       "      <td>קק\"ל</td>\n",
       "      <td>09:02:00</td>\n",
       "      <td>09:02:00</td>\n",
       "      <td>False</td>\n",
       "      <td>32.08004</td>\n",
       "      <td>34.884193</td>\n",
       "      <td>2</td>\n",
       "      <td>16</td>\n",
       "      <td>2.000000</td>\n",
       "      <td>32.000000</td>\n",
       "    </tr>\n",
       "    <tr>\n",
       "      <th>4</th>\n",
       "      <td>210684</td>\n",
       "      <td>ב</td>\n",
       "      <td>210684b29</td>\n",
       "      <td>210684b</td>\n",
       "      <td>27004</td>\n",
       "      <td>2</td>\n",
       "      <td>0</td>\n",
       "      <td>תל אביב</td>\n",
       "      <td>29</td>\n",
       "      <td>21446</td>\n",
       "      <td>עירוני</td>\n",
       "      <td>20:22:16</td>\n",
       "      <td>NaN</td>\n",
       "      <td>True</td>\n",
       "      <td>32.09505</td>\n",
       "      <td>34.775550</td>\n",
       "      <td>0</td>\n",
       "      <td>4</td>\n",
       "      <td>0.545455</td>\n",
       "      <td>2.181818</td>\n",
       "    </tr>\n",
       "    <tr>\n",
       "      <th>...</th>\n",
       "      <td>...</td>\n",
       "      <td>...</td>\n",
       "      <td>...</td>\n",
       "      <td>...</td>\n",
       "      <td>...</td>\n",
       "      <td>...</td>\n",
       "      <td>...</td>\n",
       "      <td>...</td>\n",
       "      <td>...</td>\n",
       "      <td>...</td>\n",
       "      <td>...</td>\n",
       "      <td>...</td>\n",
       "      <td>...</td>\n",
       "      <td>...</td>\n",
       "      <td>...</td>\n",
       "      <td>...</td>\n",
       "      <td>...</td>\n",
       "      <td>...</td>\n",
       "      <td>...</td>\n",
       "      <td>...</td>\n",
       "    </tr>\n",
       "    <tr>\n",
       "      <th>112087</th>\n",
       "      <td>311414</td>\n",
       "      <td>א</td>\n",
       "      <td>311414a21</td>\n",
       "      <td>311414a</td>\n",
       "      <td>12172</td>\n",
       "      <td>2</td>\n",
       "      <td>0</td>\n",
       "      <td>דרומי-ראשל\"צ-חולון</td>\n",
       "      <td>21</td>\n",
       "      <td>36387</td>\n",
       "      <td>ההסתדרות</td>\n",
       "      <td>07:11:00</td>\n",
       "      <td>07:11:00</td>\n",
       "      <td>False</td>\n",
       "      <td>32.01649</td>\n",
       "      <td>34.782760</td>\n",
       "      <td>4</td>\n",
       "      <td>33</td>\n",
       "      <td>3.000000</td>\n",
       "      <td>99.000000</td>\n",
       "    </tr>\n",
       "    <tr>\n",
       "      <th>112088</th>\n",
       "      <td>311414</td>\n",
       "      <td>א</td>\n",
       "      <td>311414a21</td>\n",
       "      <td>311414a</td>\n",
       "      <td>12172</td>\n",
       "      <td>2</td>\n",
       "      <td>0</td>\n",
       "      <td>דרומי-ראשל\"צ-חולון</td>\n",
       "      <td>21</td>\n",
       "      <td>36387</td>\n",
       "      <td>מוהליבר</td>\n",
       "      <td>07:11:00</td>\n",
       "      <td>07:11:00</td>\n",
       "      <td>False</td>\n",
       "      <td>32.01649</td>\n",
       "      <td>34.782760</td>\n",
       "      <td>4</td>\n",
       "      <td>33</td>\n",
       "      <td>3.000000</td>\n",
       "      <td>99.000000</td>\n",
       "    </tr>\n",
       "    <tr>\n",
       "      <th>112089</th>\n",
       "      <td>313165</td>\n",
       "      <td>א</td>\n",
       "      <td>313165a40</td>\n",
       "      <td>313165a</td>\n",
       "      <td>15145</td>\n",
       "      <td>1</td>\n",
       "      <td>#</td>\n",
       "      <td>חולון עירוני ומטרופוליני+תחרות חולון</td>\n",
       "      <td>40</td>\n",
       "      <td>36388</td>\n",
       "      <td>תל</td>\n",
       "      <td>12:17:10</td>\n",
       "      <td>NaN</td>\n",
       "      <td>True</td>\n",
       "      <td>32.03237</td>\n",
       "      <td>34.767900</td>\n",
       "      <td>0</td>\n",
       "      <td>0</td>\n",
       "      <td>2.333333</td>\n",
       "      <td>0.000000</td>\n",
       "    </tr>\n",
       "    <tr>\n",
       "      <th>112090</th>\n",
       "      <td>313165</td>\n",
       "      <td>א</td>\n",
       "      <td>313165a40</td>\n",
       "      <td>313165a</td>\n",
       "      <td>15145</td>\n",
       "      <td>1</td>\n",
       "      <td>#</td>\n",
       "      <td>חולון עירוני ומטרופוליני+תחרות חולון</td>\n",
       "      <td>40</td>\n",
       "      <td>36388</td>\n",
       "      <td>גיבורים</td>\n",
       "      <td>12:17:10</td>\n",
       "      <td>NaN</td>\n",
       "      <td>True</td>\n",
       "      <td>32.03237</td>\n",
       "      <td>34.767900</td>\n",
       "      <td>0</td>\n",
       "      <td>0</td>\n",
       "      <td>2.333333</td>\n",
       "      <td>0.000000</td>\n",
       "    </tr>\n",
       "    <tr>\n",
       "      <th>112091</th>\n",
       "      <td>313165</td>\n",
       "      <td>א</td>\n",
       "      <td>313165a40</td>\n",
       "      <td>313165a</td>\n",
       "      <td>15145</td>\n",
       "      <td>1</td>\n",
       "      <td>#</td>\n",
       "      <td>חולון עירוני ומטרופוליני+תחרות חולון</td>\n",
       "      <td>40</td>\n",
       "      <td>36388</td>\n",
       "      <td>המצודה</td>\n",
       "      <td>12:17:10</td>\n",
       "      <td>NaN</td>\n",
       "      <td>True</td>\n",
       "      <td>32.03237</td>\n",
       "      <td>34.767900</td>\n",
       "      <td>0</td>\n",
       "      <td>0</td>\n",
       "      <td>2.333333</td>\n",
       "      <td>0.000000</td>\n",
       "    </tr>\n",
       "  </tbody>\n",
       "</table>\n",
       "<p>112092 rows × 20 columns</p>\n",
       "</div>"
      ],
      "text/plain": [
       "        trip_id part trip_id_unique_station trip_id_unique  line_id  \\\n",
       "0        310854    ב              310854b39        310854b    27087   \n",
       "1        310854    ב              310854b39        310854b    27087   \n",
       "2        314556    ג              314556c30        314556c    23076   \n",
       "3        314556    ג              314556c30        314556c    23076   \n",
       "4        210684    ב              210684b29        210684b    27004   \n",
       "...         ...  ...                    ...            ...      ...   \n",
       "112087   311414    א              311414a21        311414a    12172   \n",
       "112088   311414    א              311414a21        311414a    12172   \n",
       "112089   313165    א              313165a40        313165a    15145   \n",
       "112090   313165    א              313165a40        313165a    15145   \n",
       "112091   313165    א              313165a40        313165a    15145   \n",
       "\n",
       "        direction alternative                               cluster  \\\n",
       "0               1           #  חולון עירוני ומטרופוליני+תחרות חולון   \n",
       "1               1           #  חולון עירוני ומטרופוליני+תחרות חולון   \n",
       "2               2           0                             אונו-אלעד   \n",
       "3               2           0                             אונו-אלעד   \n",
       "4               2           0                               תל אביב   \n",
       "...           ...         ...                                   ...   \n",
       "112087          2           0                    דרומי-ראשל\"צ-חולון   \n",
       "112088          2           0                    דרומי-ראשל\"צ-חולון   \n",
       "112089          1           #  חולון עירוני ומטרופוליני+תחרות חולון   \n",
       "112090          1           #  חולון עירוני ומטרופוליני+תחרות חולון   \n",
       "112091          1           #  חולון עירוני ומטרופוליני+תחרות חולון   \n",
       "\n",
       "        station_index  station_id station_name arrival_time door_closing_time  \\\n",
       "0                  39       36060      רוטשילד     14:43:00          14:43:00   \n",
       "1                  39       36060         הרצל     14:43:00          14:43:00   \n",
       "2                  30       31674      רוטשילד     09:02:00          09:02:00   \n",
       "3                  30       31674         קק\"ל     09:02:00          09:02:00   \n",
       "4                  29       21446       עירוני     20:22:16               NaN   \n",
       "...               ...         ...          ...          ...               ...   \n",
       "112087             21       36387     ההסתדרות     07:11:00          07:11:00   \n",
       "112088             21       36387      מוהליבר     07:11:00          07:11:00   \n",
       "112089             40       36388           תל     12:17:10               NaN   \n",
       "112090             40       36388      גיבורים     12:17:10               NaN   \n",
       "112091             40       36388       המצודה     12:17:10               NaN   \n",
       "\n",
       "        arrival_is_estimated  latitude  longitude  passengers_up  \\\n",
       "0                      False  32.02666  34.742650              0   \n",
       "1                      False  32.02666  34.742650              0   \n",
       "2                      False  32.08004  34.884193              2   \n",
       "3                      False  32.08004  34.884193              2   \n",
       "4                       True  32.09505  34.775550              0   \n",
       "...                      ...       ...        ...            ...   \n",
       "112087                 False  32.01649  34.782760              4   \n",
       "112088                 False  32.01649  34.782760              4   \n",
       "112089                  True  32.03237  34.767900              0   \n",
       "112090                  True  32.03237  34.767900              0   \n",
       "112091                  True  32.03237  34.767900              0   \n",
       "\n",
       "        passengers_continue  mekadem_nipuach_luz  passengers_continue_menupach  \n",
       "0                         7             2.250000                     15.750000  \n",
       "1                         7             2.250000                     15.750000  \n",
       "2                        16             2.000000                     32.000000  \n",
       "3                        16             2.000000                     32.000000  \n",
       "4                         4             0.545455                      2.181818  \n",
       "...                     ...                  ...                           ...  \n",
       "112087                   33             3.000000                     99.000000  \n",
       "112088                   33             3.000000                     99.000000  \n",
       "112089                    0             2.333333                      0.000000  \n",
       "112090                    0             2.333333                      0.000000  \n",
       "112091                    0             2.333333                      0.000000  \n",
       "\n",
       "[112092 rows x 20 columns]"
      ]
     },
     "execution_count": 10,
     "metadata": {},
     "output_type": "execute_result"
    }
   ],
   "source": [
    "xgboost_X_exploded"
   ]
  },
  {
   "cell_type": "code",
   "execution_count": 11,
   "metadata": {},
   "outputs": [],
   "source": [
    "top_pop_words = xgboost_X_exploded.groupby(\"station_name\")[\"trip_id_unique_station\"].nunique().sort_values().tail(100)"
   ]
  },
  {
   "cell_type": "code",
   "execution_count": 12,
   "metadata": {},
   "outputs": [],
   "source": [
    "word_analysis = xgboost_X_exploded[xgboost_X_exploded[\"station_name\"].isin(top_pop_words.index)].groupby(\"station_name\")[\"passengers_up\"].describe()"
   ]
  },
  {
   "cell_type": "code",
   "execution_count": 13,
   "metadata": {},
   "outputs": [],
   "source": [
    "weight_words =list(word_analysis[word_analysis[\"75%\"]> 2].index)"
   ]
  },
  {
   "cell_type": "code",
   "execution_count": 14,
   "metadata": {},
   "outputs": [
    {
     "data": {
      "text/plain": [
       "['אצ\"ל',\n",
       " 'ביאליק',\n",
       " 'ההגנה',\n",
       " 'חזון',\n",
       " 'לוינסקי',\n",
       " 'סוקולוב',\n",
       " 'עקיבא',\n",
       " 'קניון',\n",
       " 'רבי',\n",
       " 'רכבת']"
      ]
     },
     "execution_count": 14,
     "metadata": {},
     "output_type": "execute_result"
    }
   ],
   "source": [
    "weight_words"
   ]
  },
  {
   "cell_type": "code",
   "execution_count": 15,
   "metadata": {},
   "outputs": [],
   "source": [
    "weight_words = weight_words + list(word_analysis[word_analysis[\"50%\"]> 0].index)"
   ]
  },
  {
   "cell_type": "code",
   "execution_count": 16,
   "metadata": {},
   "outputs": [
    {
     "data": {
      "text/plain": [
       "['אצ\"ל',\n",
       " 'ביאליק',\n",
       " 'ההגנה',\n",
       " 'חזון',\n",
       " 'לוינסקי',\n",
       " 'סוקולוב',\n",
       " 'עקיבא',\n",
       " 'קניון',\n",
       " 'רבי',\n",
       " 'רכבת',\n",
       " 'אצ\"ל',\n",
       " 'ביאליק',\n",
       " 'בלפור',\n",
       " 'גשר',\n",
       " 'ההגנה',\n",
       " 'המלך',\n",
       " \"ז'בוטינסקי\",\n",
       " 'חזון',\n",
       " 'יוספטל',\n",
       " 'כצנלסון',\n",
       " 'לוינסקי',\n",
       " 'סוקולוב',\n",
       " 'עקיבא',\n",
       " 'קניון',\n",
       " 'רבי',\n",
       " 'רוטשילד']"
      ]
     },
     "execution_count": 16,
     "metadata": {},
     "output_type": "execute_result"
    }
   ],
   "source": [
    "weight_words"
   ]
  },
  {
   "cell_type": "code",
   "execution_count": null,
   "metadata": {},
   "outputs": [],
   "source": [
    "for i, word in enumerate(weight_words, start=1):\n",
    "    xgboost_X[f'x_{i}'] = xgboost_X['station_name'].str.contains(word, regex=False).astype(int)\n"
   ]
  },
  {
   "cell_type": "code",
   "execution_count": null,
   "metadata": {},
   "outputs": [
    {
     "data": {
      "text/plain": [
       "Index(['trip_id', 'part', 'trip_id_unique_station', 'trip_id_unique',\n",
       "       'line_id', 'direction', 'alternative', 'cluster', 'station_index',\n",
       "       'station_id', 'station_name', 'arrival_time', 'door_closing_time',\n",
       "       'arrival_is_estimated', 'latitude', 'longitude', 'passengers_continue',\n",
       "       'mekadem_nipuach_luz', 'passengers_continue_menupach', 'x_1', 'x_2',\n",
       "       'x_3', 'x_4', 'x_5', 'x_6', 'x_7', 'x_8', 'x_9', 'x_10', 'x_11', 'x_12',\n",
       "       'x_13', 'x_14', 'x_15', 'x_16', 'x_17', 'x_18', 'x_19', 'x_20', 'x_21',\n",
       "       'x_22', 'x_23', 'x_24', 'x_25', 'x_26'],\n",
       "      dtype='object')"
      ]
     },
     "execution_count": 66,
     "metadata": {},
     "output_type": "execute_result"
    }
   ],
   "source": [
    "xgboost_X.columns"
   ]
  },
  {
   "cell_type": "code",
   "execution_count": null,
   "metadata": {},
   "outputs": [],
   "source": [
    "label_encoder = LabelEncoder()\n",
    "xgboost_X['cluster'] = label_encoder.fit_transform(xgboost_X['cluster'])\n",
    "xgboost_X['alternative'] = label_encoder.fit_transform(xgboost_X['alternative'])\n",
    "xgboost_X['part'] = label_encoder.fit_transform(xgboost_X['part'])\n",
    "xgboost_X['station_id'] = label_encoder.fit_transform(xgboost_X['station_id'])\n",
    "xgboost_X['trip_id_unique'] = label_encoder.fit_transform(xgboost_X['trip_id_unique'])"
   ]
  },
  {
   "cell_type": "code",
   "execution_count": null,
   "metadata": {},
   "outputs": [
    {
     "name": "stdout",
     "output_type": "stream",
     "text": [
      "Collecting geopandas\n",
      "  Downloading geopandas-1.0.1-py3-none-any.whl.metadata (2.2 kB)\n",
      "Requirement already satisfied: numpy>=1.22 in /opt/anaconda3/envs/iml.env/lib/python3.9/site-packages (from geopandas) (1.26.4)\n",
      "Collecting pyogrio>=0.7.2 (from geopandas)\n",
      "  Downloading pyogrio-0.9.0-cp39-cp39-macosx_12_0_arm64.whl.metadata (3.8 kB)\n",
      "Requirement already satisfied: packaging in /opt/anaconda3/envs/iml.env/lib/python3.9/site-packages (from geopandas) (23.2)\n",
      "Requirement already satisfied: pandas>=1.4.0 in /opt/anaconda3/envs/iml.env/lib/python3.9/site-packages (from geopandas) (2.2.1)\n",
      "Collecting pyproj>=3.3.0 (from geopandas)\n",
      "  Downloading pyproj-3.6.1-cp39-cp39-macosx_11_0_arm64.whl.metadata (31 kB)\n",
      "Collecting shapely>=2.0.0 (from geopandas)\n",
      "  Downloading shapely-2.0.4-cp39-cp39-macosx_11_0_arm64.whl.metadata (7.0 kB)\n",
      "Requirement already satisfied: python-dateutil>=2.8.2 in /opt/anaconda3/envs/iml.env/lib/python3.9/site-packages (from pandas>=1.4.0->geopandas) (2.9.0.post0)\n",
      "Requirement already satisfied: pytz>=2020.1 in /opt/anaconda3/envs/iml.env/lib/python3.9/site-packages (from pandas>=1.4.0->geopandas) (2024.1)\n",
      "Requirement already satisfied: tzdata>=2022.7 in /opt/anaconda3/envs/iml.env/lib/python3.9/site-packages (from pandas>=1.4.0->geopandas) (2023.3)\n",
      "Requirement already satisfied: certifi in /opt/anaconda3/envs/iml.env/lib/python3.9/site-packages (from pyogrio>=0.7.2->geopandas) (2024.2.2)\n",
      "Requirement already satisfied: six>=1.5 in /opt/anaconda3/envs/iml.env/lib/python3.9/site-packages (from python-dateutil>=2.8.2->pandas>=1.4.0->geopandas) (1.16.0)\n",
      "Downloading geopandas-1.0.1-py3-none-any.whl (323 kB)\n",
      "\u001B[2K   \u001B[90m━━━━━━━━━━━━━━━━━━━━━━━━━━━━━━━━━━━━━━━━\u001B[0m \u001B[32m323.6/323.6 kB\u001B[0m \u001B[31m2.0 MB/s\u001B[0m eta \u001B[36m0:00:00\u001B[0ma \u001B[36m0:00:01\u001B[0m\n",
      "\u001B[?25hDownloading pyogrio-0.9.0-cp39-cp39-macosx_12_0_arm64.whl (14.8 MB)\n",
      "\u001B[2K   \u001B[90m━━━━━━━━━━━━━━━━━━━━━━━━━━━━━━━━━━━━━━━━\u001B[0m \u001B[32m14.8/14.8 MB\u001B[0m \u001B[31m15.9 MB/s\u001B[0m eta \u001B[36m0:00:00\u001B[0m00:01\u001B[0m00:01\u001B[0m\n",
      "\u001B[?25hDownloading pyproj-3.6.1-cp39-cp39-macosx_11_0_arm64.whl (4.9 MB)\n",
      "\u001B[2K   \u001B[90m━━━━━━━━━━━━━━━━━━━━━━━━━━━━━━━━━━━━━━━━\u001B[0m \u001B[32m4.9/4.9 MB\u001B[0m \u001B[31m14.4 MB/s\u001B[0m eta \u001B[36m0:00:00\u001B[0ma \u001B[36m0:00:01\u001B[0m\n",
      "\u001B[?25hDownloading shapely-2.0.4-cp39-cp39-macosx_11_0_arm64.whl (1.3 MB)\n",
      "\u001B[2K   \u001B[90m━━━━━━━━━━━━━━━━━━━━━━━━━━━━━━━━━━━━━━━━\u001B[0m \u001B[32m1.3/1.3 MB\u001B[0m \u001B[31m17.2 MB/s\u001B[0m eta \u001B[36m0:00:00\u001B[0m00:01\u001B[0m00:01\u001B[0m\n",
      "\u001B[?25hInstalling collected packages: shapely, pyproj, pyogrio, geopandas\n",
      "Successfully installed geopandas-1.0.1 pyogrio-0.9.0 pyproj-3.6.1 shapely-2.0.4\n"
     ]
    }
   ],
   "source": [
    "!pip install geopandas"
   ]
  },
  {
   "cell_type": "code",
   "execution_count": null,
   "metadata": {},
   "outputs": [],
   "source": [
    "import geopandas as gpd\n",
    "from shapely.geometry import Polygon, Point"
   ]
  },
  {
   "cell_type": "code",
   "execution_count": null,
   "metadata": {},
   "outputs": [],
   "source": [
    "del xgboost_X[\"geometry\"]\n",
    "del xgboost_X[\"grid_id\"]\n",
    "xgboost_X['arrival_is_estimated'] = xgboost_X['arrival_is_estimated'].astype(int)"
   ]
  },
  {
   "cell_type": "code",
   "execution_count": null,
   "metadata": {},
   "outputs": [
    {
     "name": "stderr",
     "output_type": "stream",
     "text": [
      "/var/folders/24/vfbkhj7j0t142rz214mskjkr0000gn/T/ipykernel_67249/1107517897.py:9: FutureWarning: Downcasting object dtype arrays on .fillna, .ffill, .bfill is deprecated and will change in a future version. Call result.infer_objects(copy=False) instead. To opt-in to the future behavior, set `pd.set_option('future.no_silent_downcasting', True)`\n",
      "  xgboost_X[\"door_close_delta\"] = xgboost_X[\"door_close_delta\"].fillna(door_delta_mean)\n"
     ]
    }
   ],
   "source": [
    "xgboost_X['door_closing_time'] = pd.to_datetime(xgboost_X['door_closing_time'])\n",
    "xgboost_X['arrival_time'] = pd.to_datetime(xgboost_X['arrival_time'])\n",
    "\n",
    "# Create door delta columns\n",
    "xgboost_X[\"door_close_delta\"] = None\n",
    "mask_notna = xgboost_X[\"door_closing_time\"].notna()\n",
    "xgboost_X.loc[mask_notna, 'door_close_delta'] = (xgboost_X.loc[mask_notna, 'door_closing_time'] - xgboost_X.loc[mask_notna, 'arrival_time']).dt.total_seconds()\n",
    "door_delta_mean = xgboost_X[\"door_close_delta\"].mean()\n",
    "xgboost_X[\"door_close_delta\"] = xgboost_X[\"door_close_delta\"].fillna(door_delta_mean)\n",
    "\n",
    "# Categorize arrival time\n",
    "arrival_hours = xgboost_X['arrival_time'].dt.hour\n",
    "percentiles = arrival_hours.describe(percentiles=[0.1, 0.2, 0.3, 0.4, 0.5, 0.6, 0.7, 0.8, 0.9])\n",
    "percentile_values = percentiles.loc[\n",
    "    ['10%', '20%', '30%', '40%', '50%', '60%', '70%', '80%', '90%']\n",
    "].values\n",
    "labels = [f'{int(value)}' for value in percentile_values]\n",
    "labels.insert(0, '0')\n",
    "xgboost_X['arrival_time_label'] = pd.cut(arrival_hours,\n",
    "                                    bins=[0] + list(percentile_values) + [24],\n",
    "                                    labels=labels,\n",
    "                                    include_lowest=True)"
   ]
  },
  {
   "cell_type": "code",
   "execution_count": null,
   "metadata": {},
   "outputs": [],
   "source": [
    "index_to_drop = xgboost_y[xgboost_y>30].index\n",
    "xgboost_y = xgboost_y.drop(index_to_drop)\n",
    "xgboost_X = xgboost_X.drop(index_to_drop)"
   ]
  },
  {
   "cell_type": "code",
   "execution_count": 152,
   "metadata": {},
   "outputs": [],
   "source": [
    "xgboost_X[\"arrival_time_label\"] = xgboost_X[\"arrival_time_label\"].astype(int)"
   ]
  },
  {
   "cell_type": "code",
   "execution_count": 160,
   "metadata": {},
   "outputs": [],
   "source": [
    "del xgboost_X[\"arrival_time\"]\n",
    "del xgboost_X[\"door_closing_time\"]\n",
    "del xgboost_X[\"station_name\"]# \n",
    "del xgboost_X[\"trip_id_unique_station\"]"
   ]
  },
  {
   "cell_type": "code",
   "execution_count": 161,
   "metadata": {},
   "outputs": [],
   "source": [
    "def xg_boost(X_train: pd.DataFrame, X_test: pd.DataFrame, y_train: pd.Series,\n",
    "             y_test: pd.Series):\n",
    "    results = []\n",
    "\n",
    "    # Define parameter grids to iterate over\n",
    "    parameters = [\n",
    "        {'max_depth': 3, 'learning_rate': 0.1, 'n_estimators': 100},\n",
    "        {'max_depth': 5, 'learning_rate': 0.1, 'n_estimators': 100},\n",
    "        {'max_depth': 5, 'learning_rate': 0.05, 'n_estimators': 100},\n",
    "        {'max_depth': 5, 'learning_rate': 0.1, 'n_estimators': 200},\n",
    "        {'max_depth': 7, 'learning_rate': 0.1, 'n_estimators': 100}\n",
    "    ]\n",
    "\n",
    "    for params in parameters:\n",
    "        # Create XGBoost model\n",
    "        model = xgb.XGBRegressor(objective='reg:squarederror', eval_metric='rmse', **params)\n",
    "\n",
    "        # Train the model\n",
    "        model.fit(X_train, y_train)\n",
    "\n",
    "        # Predict on test set\n",
    "        y_pred = model.predict(X_test)\n",
    "\n",
    "        # Calculate RMSE\n",
    "        rmse = mean_squared_error(y_test, y_pred, squared=False)\n",
    "        results.append((params, rmse))\n",
    "\n",
    "    # Return results for further analysis or selection\n",
    "    return results"
   ]
  },
  {
   "cell_type": "code",
   "execution_count": 162,
   "metadata": {},
   "outputs": [],
   "source": [
    "X_train, X_test, y_train, y_test  = sk.train_test_split(xgboost_X,xgboost_y,train_size=0.75,random_state=RANDOM_STATE)"
   ]
  },
  {
   "cell_type": "code",
   "execution_count": 163,
   "metadata": {},
   "outputs": [
    {
     "name": "stderr",
     "output_type": "stream",
     "text": [
      "/opt/anaconda3/envs/iml.env/lib/python3.9/site-packages/sklearn/metrics/_regression.py:483: FutureWarning: 'squared' is deprecated in version 1.4 and will be removed in 1.6. To calculate the root mean squared error, use the function'root_mean_squared_error'.\n",
      "  warnings.warn(\n",
      "/opt/anaconda3/envs/iml.env/lib/python3.9/site-packages/sklearn/metrics/_regression.py:483: FutureWarning: 'squared' is deprecated in version 1.4 and will be removed in 1.6. To calculate the root mean squared error, use the function'root_mean_squared_error'.\n",
      "  warnings.warn(\n",
      "/opt/anaconda3/envs/iml.env/lib/python3.9/site-packages/sklearn/metrics/_regression.py:483: FutureWarning: 'squared' is deprecated in version 1.4 and will be removed in 1.6. To calculate the root mean squared error, use the function'root_mean_squared_error'.\n",
      "  warnings.warn(\n",
      "/opt/anaconda3/envs/iml.env/lib/python3.9/site-packages/sklearn/metrics/_regression.py:483: FutureWarning: 'squared' is deprecated in version 1.4 and will be removed in 1.6. To calculate the root mean squared error, use the function'root_mean_squared_error'.\n",
      "  warnings.warn(\n",
      "/opt/anaconda3/envs/iml.env/lib/python3.9/site-packages/sklearn/metrics/_regression.py:483: FutureWarning: 'squared' is deprecated in version 1.4 and will be removed in 1.6. To calculate the root mean squared error, use the function'root_mean_squared_error'.\n",
      "  warnings.warn(\n"
     ]
    }
   ],
   "source": [
    "result = xg_boost(X_train, X_test, y_train, y_test )"
   ]
  },
  {
   "cell_type": "code",
   "execution_count": 164,
   "metadata": {},
   "outputs": [
    {
     "data": {
      "text/plain": [
       "[({'max_depth': 3, 'learning_rate': 0.1, 'n_estimators': 100},\n",
       "  1.5081256191087256),\n",
       " ({'max_depth': 5, 'learning_rate': 0.1, 'n_estimators': 100},\n",
       "  1.4807873755485912),\n",
       " ({'max_depth': 5, 'learning_rate': 0.05, 'n_estimators': 100},\n",
       "  1.4843717914668078),\n",
       " ({'max_depth': 5, 'learning_rate': 0.1, 'n_estimators': 200},\n",
       "  1.4730636334386578),\n",
       " ({'max_depth': 7, 'learning_rate': 0.1, 'n_estimators': 100},\n",
       "  1.4607775302881258)]"
      ]
     },
     "execution_count": 164,
     "metadata": {},
     "output_type": "execute_result"
    }
   ],
   "source": [
    "result"
   ]
  },
  {
   "cell_type": "code",
   "execution_count": 13,
   "outputs": [],
   "source": [
    "import pandas as pd\n",
    "X_PASSENGER = \"data/X_passengers_up.csv\"\n",
    "X_TRIP = \"data/X_trip_duration.csv\""
   ],
   "metadata": {
    "collapsed": false,
    "ExecuteTime": {
     "end_time": "2024-07-04T17:42:11.932843600Z",
     "start_time": "2024-07-04T17:42:11.907780600Z"
    }
   }
  },
  {
   "cell_type": "code",
   "execution_count": 14,
   "metadata": {
    "ExecuteTime": {
     "end_time": "2024-07-04T17:42:12.337409400Z",
     "start_time": "2024-07-04T17:42:12.142989200Z"
    }
   },
   "outputs": [],
   "source": [
    "x_passenger = pd.read_csv(X_PASSENGER,encoding=\"windows-1255\")\n",
    "x_trip = pd.read_csv(X_TRIP,encoding=\"windows-1255\")"
   ]
  },
  {
   "cell_type": "code",
   "execution_count": 15,
   "outputs": [],
   "source": [
    "x_columns = x_trip.columns"
   ],
   "metadata": {
    "collapsed": false,
    "ExecuteTime": {
     "end_time": "2024-07-04T17:42:14.774480900Z",
     "start_time": "2024-07-04T17:42:14.762152500Z"
    }
   }
  },
  {
   "cell_type": "code",
   "execution_count": 16,
   "outputs": [
    {
     "data": {
      "text/plain": "['trip_id',\n 'part',\n 'trip_id_unique_station',\n 'trip_id_unique',\n 'line_id',\n 'direction',\n 'alternative',\n 'cluster',\n 'station_index',\n 'station_id',\n 'station_name',\n 'arrival_time',\n 'door_closing_time',\n 'arrival_is_estimated',\n 'latitude',\n 'longitude',\n 'passengers_up',\n 'passengers_continue',\n 'mekadem_nipuach_luz',\n 'passengers_continue_menupach']"
     },
     "execution_count": 16,
     "metadata": {},
     "output_type": "execute_result"
    }
   ],
   "source": [
    "list(x_columns)"
   ],
   "metadata": {
    "collapsed": false,
    "ExecuteTime": {
     "end_time": "2024-07-04T17:42:15.060653400Z",
     "start_time": "2024-07-04T17:42:15.033118200Z"
    }
   }
  },
  {
   "cell_type": "code",
   "execution_count": null,
   "outputs": [],
   "source": [],
   "metadata": {
    "collapsed": false
   }
  }
 ],
 "metadata": {
  "kernelspec": {
   "display_name": "iml.env",
   "language": "python",
   "name": "python3"
  },
  "language_info": {
   "codemirror_mode": {
    "name": "ipython",
    "version": 3
   },
   "file_extension": ".py",
   "mimetype": "text/x-python",
   "name": "python",
   "nbconvert_exporter": "python",
   "pygments_lexer": "ipython3",
   "version": "3.9.19"
  }
 },
 "nbformat": 4,
 "nbformat_minor": 2
}
