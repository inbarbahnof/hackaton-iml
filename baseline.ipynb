{
 "cells": [
  {
   "cell_type": "code",
   "execution_count": 57,
   "metadata": {},
   "outputs": [],
   "source": [
    "import pandas as pd \n",
    "import numpy as np \n",
    "import sklearn.model_selection as sk\n",
    "from sklearn.preprocessing import LabelEncoder"
   ]
  },
  {
   "cell_type": "code",
   "execution_count": 58,
   "metadata": {},
   "outputs": [],
   "source": [
    "TRAIN_BUS_CSV_PATH = \"data/train_bus_schedule.csv\"\n",
    "X_PASSENGER = \"data/X_passengers_up.csv\"\n",
    "X_TRIP = \"data/X_trip_duration.csv\"\n",
    "ENCODER = \"windows-1255\"\n",
    "RANDOM_STATE = 42"
   ]
  },
  {
   "cell_type": "code",
   "execution_count": 59,
   "metadata": {},
   "outputs": [],
   "source": [
    "train_bus = pd.read_csv(TRAIN_BUS_CSV_PATH, encoding=ENCODER)\n",
    "x_passenger = pd.read_csv(X_PASSENGER, encoding=ENCODER)\n",
    "x_trip_duration = pd.read_csv(X_TRIP, encoding=ENCODER)"
   ]
  },
  {
   "cell_type": "markdown",
   "metadata": {},
   "source": [
    "data splitting"
   ]
  },
  {
   "cell_type": "code",
   "execution_count": 60,
   "metadata": {},
   "outputs": [],
   "source": [
    "y = train_bus[\"passengers_up\"]"
   ]
  },
  {
   "cell_type": "code",
   "execution_count": 61,
   "metadata": {},
   "outputs": [
    {
     "data": {
      "text/plain": [
       "48303"
      ]
     },
     "execution_count": 61,
     "metadata": {},
     "output_type": "execute_result"
    }
   ],
   "source": [
    "len(x_passenger)"
   ]
  },
  {
   "cell_type": "code",
   "execution_count": 139,
   "metadata": {},
   "outputs": [],
   "source": [
    "\n",
    "sample_size = 0.05  # 5% of the data\n",
    "baseline = train_bus.sample(frac=sample_size, random_state=RANDOM_STATE)\n",
    "remaining_data = train_bus.drop(baseline.index)"
   ]
  },
  {
   "cell_type": "markdown",
   "metadata": {},
   "source": [
    "base line - linearregression"
   ]
  },
  {
   "cell_type": "code",
   "execution_count": 140,
   "metadata": {},
   "outputs": [],
   "source": [
    "x_base_line = baseline[x_passenger.columns]\n",
    "y_base_line = baseline[\"passengers_up\"]"
   ]
  },
  {
   "cell_type": "markdown",
   "metadata": {},
   "source": [
    "pre process data"
   ]
  },
  {
   "cell_type": "code",
   "execution_count": 141,
   "metadata": {},
   "outputs": [
    {
     "name": "stdout",
     "output_type": "stream",
     "text": [
      "['door_closing_time']\n"
     ]
    }
   ],
   "source": [
    "import pandas as pd\n",
    "\n",
    "\n",
    "columns_with_nan = [col for col in x_base_line.columns if x_base_line[col].isna().any()]\n",
    "print(columns_with_nan)\n"
   ]
  },
  {
   "cell_type": "code",
   "execution_count": 142,
   "metadata": {},
   "outputs": [
    {
     "name": "stderr",
     "output_type": "stream",
     "text": [
      "/var/folders/24/vfbkhj7j0t142rz214mskjkr0000gn/T/ipykernel_24514/385723958.py:3: UserWarning: Could not infer format, so each element will be parsed individually, falling back to `dateutil`. To ensure parsing is consistent and as-expected, please specify a format.\n",
      "  x_base_line['door_closing_time'] = pd.to_datetime(x_base_line['door_closing_time'])\n",
      "/var/folders/24/vfbkhj7j0t142rz214mskjkr0000gn/T/ipykernel_24514/385723958.py:3: SettingWithCopyWarning: \n",
      "A value is trying to be set on a copy of a slice from a DataFrame.\n",
      "Try using .loc[row_indexer,col_indexer] = value instead\n",
      "\n",
      "See the caveats in the documentation: https://pandas.pydata.org/pandas-docs/stable/user_guide/indexing.html#returning-a-view-versus-a-copy\n",
      "  x_base_line['door_closing_time'] = pd.to_datetime(x_base_line['door_closing_time'])\n",
      "/var/folders/24/vfbkhj7j0t142rz214mskjkr0000gn/T/ipykernel_24514/385723958.py:4: UserWarning: Could not infer format, so each element will be parsed individually, falling back to `dateutil`. To ensure parsing is consistent and as-expected, please specify a format.\n",
      "  x_base_line['arrival_time'] = pd.to_datetime(x_base_line['arrival_time'])\n",
      "/var/folders/24/vfbkhj7j0t142rz214mskjkr0000gn/T/ipykernel_24514/385723958.py:4: SettingWithCopyWarning: \n",
      "A value is trying to be set on a copy of a slice from a DataFrame.\n",
      "Try using .loc[row_indexer,col_indexer] = value instead\n",
      "\n",
      "See the caveats in the documentation: https://pandas.pydata.org/pandas-docs/stable/user_guide/indexing.html#returning-a-view-versus-a-copy\n",
      "  x_base_line['arrival_time'] = pd.to_datetime(x_base_line['arrival_time'])\n"
     ]
    }
   ],
   "source": [
    "\n",
    "\n",
    "# Assuming x_base_line is your DataFrame\n",
    "# Convert relevant columns to datetime if needed\n",
    "x_base_line['door_closing_time'] = pd.to_datetime(x_base_line['door_closing_time'])\n",
    "x_base_line['arrival_time'] = pd.to_datetime(x_base_line['arrival_time'])\n",
    "\n",
    "\n",
    "# If you need to convert the result to seconds or another format, you can further process it\n"
   ]
  },
  {
   "cell_type": "code",
   "execution_count": 143,
   "metadata": {},
   "outputs": [],
   "source": [
    "x_base_line[\"door_close_delta\"] = None\n",
    "x_base_line.loc[x_base_line[\"door_closing_time\"].notna(),['door_close_delta']] =(x_base_line.loc[x_base_line[\"door_closing_time\"].notna(),'door_closing_time'] - x_base_line.loc[x_base_line[\"door_closing_time\"].notna(),'arrival_time']).dt.total_seconds()\n",
    "\n"
   ]
  },
  {
   "cell_type": "code",
   "execution_count": 144,
   "metadata": {},
   "outputs": [
    {
     "name": "stderr",
     "output_type": "stream",
     "text": [
      "/var/folders/24/vfbkhj7j0t142rz214mskjkr0000gn/T/ipykernel_24514/2048116025.py:2: FutureWarning: Downcasting object dtype arrays on .fillna, .ffill, .bfill is deprecated and will change in a future version. Call result.infer_objects(copy=False) instead. To opt-in to the future behavior, set `pd.set_option('future.no_silent_downcasting', True)`\n",
      "  x_base_line[\"door_close_delta\"] = x_base_line[\"door_close_delta\"].fillna(door_delta_mean)\n"
     ]
    }
   ],
   "source": [
    "door_delta_mean = x_base_line[\"door_close_delta\"].mean()\n",
    "x_base_line[\"door_close_delta\"] = x_base_line[\"door_close_delta\"].fillna(door_delta_mean)"
   ]
  },
  {
   "cell_type": "code",
   "execution_count": 145,
   "metadata": {},
   "outputs": [
    {
     "data": {
      "text/plain": [
       "count    11306.000000\n",
       "mean        13.155227\n",
       "std          5.059352\n",
       "min          0.000000\n",
       "10%          6.000000\n",
       "20%          8.000000\n",
       "30%         10.000000\n",
       "40%         11.000000\n",
       "50%         13.000000\n",
       "60%         15.000000\n",
       "70%         16.000000\n",
       "80%         18.000000\n",
       "90%         20.000000\n",
       "max         23.000000\n",
       "Name: arrival_time, dtype: float64"
      ]
     },
     "execution_count": 145,
     "metadata": {},
     "output_type": "execute_result"
    }
   ],
   "source": [
    "x_base_line['arrival_time'].dt.hour.describe(percentiles=(0.1,0.2,0.3,0.4,0.5,0.6,0.7,0.8,0.9))"
   ]
  },
  {
   "cell_type": "code",
   "execution_count": 120,
   "metadata": {},
   "outputs": [],
   "source": [
    "\n",
    "\n",
    "x_base_line['arrival_time'] = pd.to_datetime(x_base_line['arrival_time'])\n",
    "arrival_hours = x_base_line['arrival_time'].dt.hour\n",
    "percentiles = arrival_hours.describe(percentiles=[0.1, 0.2, 0.3, 0.4, 0.5, 0.6, 0.7, 0.8, 0.9])\n",
    "percentile_values = percentiles.loc[['10%', '20%', '30%', '40%', '50%', '60%', '70%', '80%', '90%']].values\n",
    "labels = []\n",
    "previous = 0\n",
    "for value in percentile_values:\n",
    "    labels.append(f'{int(previous)}-{int(value)}')\n",
    "    previous = value\n",
    "labels.append(f'{int(percentile_values[-1])}-24')\n",
    "x_base_line['arrival_time_label'] = pd.cut(arrival_hours, \n",
    "                                           bins=[0] + list(percentile_values) + [24], \n",
    "                                           labels=labels, \n",
    "                                           include_lowest=True)\n",
    "\n"
   ]
  },
  {
   "cell_type": "code",
   "execution_count": 147,
   "metadata": {},
   "outputs": [
    {
     "name": "stdout",
     "output_type": "stream",
     "text": [
      "              arrival_time arrival_time_label\n",
      "23389  2024-07-03 14:58:00                 13\n",
      "216720 2024-07-03 20:08:00                 18\n",
      "39878  2024-07-03 15:01:00                 13\n",
      "73804  2024-07-03 18:13:00                 16\n",
      "47587  2024-07-03 15:16:45                 13\n",
      "...                    ...                ...\n",
      "46303  2024-07-03 19:47:09                 18\n",
      "222488 2024-07-03 12:05:11                 11\n",
      "39841  2024-07-03 13:15:00                 11\n",
      "109055 2024-07-03 11:31:00                 10\n",
      "191377 2024-07-03 15:35:00                 13\n",
      "\n",
      "[11306 rows x 2 columns]\n"
     ]
    }
   ],
   "source": [
    "\n",
    "# Convert arrival_time to datetime\n",
    "x_base_line['arrival_time'] = pd.to_datetime(x_base_line['arrival_time'])\n",
    "\n",
    "# Extract the hour from 'arrival_time' for percentile calculation\n",
    "arrival_hours = x_base_line['arrival_time'].dt.hour\n",
    "\n",
    "# Calculate the percentiles\n",
    "percentiles = arrival_hours.describe(percentiles=[0.1, 0.2, 0.3, 0.4, 0.5, 0.6, 0.7, 0.8, 0.9])\n",
    "percentile_values = percentiles.loc[['10%', '20%', '30%', '40%', '50%', '60%', '70%', '80%', '90%']].values\n",
    "\n",
    "# Create labels for the bins based on lower bounds\n",
    "labels = [f'{int(value)}' for value in percentile_values]\n",
    "labels.insert(0, '0')\n",
    "\n",
    "# Use pd.cut to categorize arrival hours into bins based on the calculated percentiles\n",
    "x_base_line['arrival_time_label'] = pd.cut(arrival_hours, \n",
    "                                           bins=[0] + list(percentile_values) + [24], \n",
    "                                           labels=labels, \n",
    "                                           include_lowest=True)\n",
    "\n",
    "# Now x_base_line['arrival_time_label'] contains the categorized labels based on lower bounds\n",
    "print(x_base_line[['arrival_time', 'arrival_time_label']])\n"
   ]
  },
  {
   "cell_type": "code",
   "execution_count": 166,
   "metadata": {},
   "outputs": [],
   "source": [
    "# Label Encoding\n",
    "label_encoder = LabelEncoder()\n",
    "x_base_line['part_encoded'] = label_encoder.fit_transform(x_base_line['part'])\n",
    "x_base_line['alternative_encoded'] = label_encoder.fit_transform(x_base_line['alternative'])"
   ]
  },
  {
   "cell_type": "code",
   "execution_count": null,
   "metadata": {},
   "outputs": [],
   "source": []
  },
  {
   "cell_type": "code",
   "execution_count": 167,
   "metadata": {},
   "outputs": [],
   "source": [
    "del x_base_line[\"arrival_time\"]\n",
    "del x_base_line[\"door_closing_time\"]\n",
    "del x_base_line[\"cluster\"]\n",
    "del x_base_line[\"station_name\"]\n",
    "del x_base_line[\"part\"]\n",
    "del x_base_line[\"trip_id_unique\"]\n",
    "del x_base_line[\"trip_id_unique_station\"]\n",
    "del x_base_line[\"alternative\"]"
   ]
  },
  {
   "cell_type": "markdown",
   "metadata": {},
   "source": [
    "spliting"
   ]
  },
  {
   "cell_type": "code",
   "execution_count": 168,
   "metadata": {},
   "outputs": [],
   "source": [
    "X_train,X_test,y_train,y_test = sk.train_test_split(x_base_line,y_base_line,test_size=0.25,random_state=RANDOM_STATE)"
   ]
  },
  {
   "cell_type": "markdown",
   "metadata": {},
   "source": [
    "training"
   ]
  },
  {
   "cell_type": "code",
   "execution_count": 169,
   "metadata": {},
   "outputs": [],
   "source": [
    "for col in X_train.columns:\n",
    "    try:\n",
    "        X_train[col].astype(float)\n",
    "    except Exception as err:\n",
    "        print(col)\n",
    "        print (err)"
   ]
  },
  {
   "cell_type": "code",
   "execution_count": 170,
   "metadata": {},
   "outputs": [],
   "source": [
    "from sklearn.model_selection import train_test_split\n",
    "from sklearn.linear_model import LinearRegression\n",
    "from sklearn.metrics import mean_squared_error, r2_score"
   ]
  },
  {
   "cell_type": "code",
   "execution_count": 171,
   "metadata": {},
   "outputs": [],
   "source": [
    "# Initialize and train the Linear Regression model\n",
    "model = LinearRegression()\n",
    "model.fit(X_train, y_train)\n",
    "\n",
    "# Predict on the test set\n",
    "y_pred = model.predict(X_test)\n",
    "\n",
    "# Calculate performance metrics\n",
    "mse = mean_squared_error(y_test, y_pred)\n",
    "r2 = r2_score(y_test, y_pred)"
   ]
  },
  {
   "cell_type": "code",
   "execution_count": 173,
   "metadata": {},
   "outputs": [
    {
     "data": {
      "text/plain": [
       "2.5900408774298453"
      ]
     },
     "execution_count": 173,
     "metadata": {},
     "output_type": "execute_result"
    }
   ],
   "source": [
    "mse"
   ]
  },
  {
   "cell_type": "code",
   "execution_count": 174,
   "metadata": {},
   "outputs": [
    {
     "name": "stdout",
     "output_type": "stream",
     "text": [
      "Decision Tree Regression\n",
      "Mean Squared Error: 4.139016625397948\n",
      "R^2 Score: -0.11171106310688539\n",
      "Predictions: [3. 0. 0. ... 0. 0. 1.]\n",
      "Actual values: [4 0 2 ... 4 0 1]\n"
     ]
    }
   ],
   "source": [
    "import pandas as pd\n",
    "from sklearn.model_selection import train_test_split\n",
    "from sklearn.tree import DecisionTreeRegressor\n",
    "from sklearn.metrics import mean_squared_error, r2_score\n",
    "\n",
    "model_dt = DecisionTreeRegressor(random_state=RANDOM_STATE)\n",
    "model_dt.fit(X_train, y_train)\n",
    "\n",
    "# Predict on the test set\n",
    "y_pred_dt = model_dt.predict(X_test)\n",
    "\n",
    "# Calculate performance metrics\n",
    "mse_dt = mean_squared_error(y_test, y_pred_dt)\n",
    "r2_dt = r2_score(y_test, y_pred_dt)\n",
    "\n",
    "print('Decision Tree Regression')\n",
    "print(f'Mean Squared Error: {mse_dt}')\n",
    "print(f'R^2 Score: {r2_dt}')\n",
    "print(f'Predictions: {y_pred_dt}')\n",
    "print(f'Actual values: {y_test.values}')\n"
   ]
  },
  {
   "cell_type": "code",
   "execution_count": 175,
   "metadata": {},
   "outputs": [],
   "source": [
    "from sklearn.model_selection import train_test_split\n",
    "from sklearn.preprocessing import PolynomialFeatures\n",
    "from sklearn.linear_model import LinearRegression\n",
    "from sklearn.metrics import mean_squared_error, r2_score\n",
    "import matplotlib.pyplot as plt"
   ]
  },
  {
   "cell_type": "code",
   "execution_count": 178,
   "metadata": {},
   "outputs": [
    {
     "name": "stdout",
     "output_type": "stream",
     "text": [
      "Degree 1: MSE = 2.5900408774298316\n",
      "Degree 2: MSE = 2.5604501302657274\n",
      "Degree 3: MSE = 63.19311779872775\n"
     ]
    },
    {
     "data": {
      "image/png": "[encoded data removed]",
      "text/plain": [
       "<Figure size 1000x600 with 1 Axes>"
      ]
     },
     "metadata": {},
     "output_type": "display_data"
    }
   ],
   "source": [
    "import numpy as np\n",
    "import matplotlib.pyplot as plt\n",
    "from sklearn.preprocessing import PolynomialFeatures\n",
    "from sklearn.linear_model import LinearRegression\n",
    "from sklearn.metrics import mean_squared_error\n",
    "\n",
    "# Sample DataFrames (replace these with your actual DataFrames)\n",
    "# Assuming X_train, X_test, y_train, y_test are already defined\n",
    "\n",
    "# Range of polynomial degrees to test\n",
    "degrees = range(1, 4)  # Testing degrees 1 to 5\n",
    "\n",
    "# Initialize lists to store MSE values for each degree\n",
    "mse_values = []\n",
    "\n",
    "# Iterate over each degree\n",
    "for degree in degrees:\n",
    "    # Generate polynomial features\n",
    "    poly = PolynomialFeatures(degree=degree)\n",
    "    X_train_poly = poly.fit_transform(X_train)\n",
    "    X_test_poly = poly.transform(X_test)\n",
    "    \n",
    "    # Initialize and train the Polynomial Regression model\n",
    "    model_poly = LinearRegression()\n",
    "    model_poly.fit(X_train_poly, y_train)\n",
    "    \n",
    "    # Predict on the test set\n",
    "    y_pred_poly = model_poly.predict(X_test_poly)\n",
    "    \n",
    "    # Calculate MSE\n",
    "    mse_poly = mean_squared_error(y_test, y_pred_poly)\n",
    "    \n",
    "    # Append MSE to list\n",
    "    mse_values.append(mse_poly)\n",
    "    \n",
    "    # Print MSE for each degree\n"
   ]
  },
  {
   "cell_type": "code",
   "execution_count": null,
   "metadata": {},
   "outputs": [],
   "source": []
  }
 ],
 "metadata": {
  "kernelspec": {
   "display_name": "iml.env",
   "language": "python",
   "name": "python3"
  },
  "language_info": {
   "codemirror_mode": {
    "name": "ipython",
    "version": 3
   },
   "file_extension": ".py",
   "mimetype": "text/x-python",
   "name": "python",
   "nbconvert_exporter": "python",
   "pygments_lexer": "ipython3",
   "version": "3.9.19"
  }
 },
 "nbformat": 4,
 "nbformat_minor": 2
}
