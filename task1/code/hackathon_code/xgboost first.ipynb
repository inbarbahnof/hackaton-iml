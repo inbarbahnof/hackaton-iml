{
 "cells": [
  {
   "cell_type": "code",
   "execution_count": 48,
   "id": "initial_id",
   "metadata": {
    "collapsed": true,
    "ExecuteTime": {
     "end_time": "2024-07-04T13:41:05.266752100Z",
     "start_time": "2024-07-04T13:41:04.227055900Z"
    }
   },
   "outputs": [],
   "source": [
    "import os\n",
    "from argparse import ArgumentParser\n",
    "import logging\n",
    "from typing import NoReturn\n",
    "from collections import Counter\n",
    "import pandas as pd\n",
    "import numpy as np\n",
    "import matplotlib.pyplot as plt\n",
    "import sklearn.model_selection as sk\n",
    "from sklearn.preprocessing import LabelEncoder\n",
    "from sklearn.model_selection import train_test_split\n",
    "from sklearn.linear_model import LinearRegression\n",
    "from sklearn.metrics import mean_squared_error, r2_score\n",
    "from sklearn.preprocessing import PolynomialFeatures\n",
    "from sklearn.tree import DecisionTreeRegressor\n",
    "import evaluation_scripts.eval_passengers_up as eval\n",
    "\n",
    "TRAIN_BUS_CSV_PATH = \"data/train_bus_schedule.csv\"\n",
    "X_PASSENGER = \"data/X_passengers_up.csv\"\n",
    "X_TRIP = \"data/X_trip_duration.csv\"\n",
    "ENCODER = \"windows-1255\"\n",
    "RANDOM_STATE = 42\n",
    "\n",
    "train_bus = pd.read_csv(TRAIN_BUS_CSV_PATH, encoding=ENCODER)\n",
    "x_passenger = pd.read_csv(X_PASSENGER, encoding=ENCODER)\n",
    "sample_size = 0.05  # 5% of the data\n",
    "xgboost_sample_size = 0.15\n",
    "baseline = train_bus.sample(frac=sample_size, random_state=RANDOM_STATE)\n",
    "remaining_data = train_bus.drop(baseline.index)\n",
    "\n",
    "xgboost_sample = remaining_data.sample(frac=xgboost_sample_size, random_state=RANDOM_STATE)\n",
    "xgboost_X = xgboost_sample[x_passenger.columns]\n",
    "xgboost_y = xgboost_sample[\"passengers_up\"]\n",
    "remaining_data = remaining_data.drop(xgboost_sample.index)"
   ]
  },
  {
   "cell_type": "code",
   "execution_count": 36,
   "outputs": [
    {
     "data": {
      "text/plain": "        trip_id part trip_id_unique_station trip_id_unique  line_id  \\\n13984    310854    ב              310854b39        310854b    27087   \n214847   314556    ג              314556c30        314556c    23076   \n114203   210684    ב              210684b29        210684b    27004   \n104210   118336    א              118336a17        118336a    16024   \n116209   218076    א              218076a11        218076a    25005   \n...         ...  ...                    ...            ...      ...   \n96739    314002    ג              314002c12        314002c    21037   \n52865    415530    א               415530a8        415530a    13067   \n190748   313824    א              313824a26        313824a    18019   \n118327   311414    א              311414a21        311414a    12172   \n60718    313165    א              313165a40        313165a    15145   \n\n        direction alternative                               cluster  \\\n13984           1           #  חולון עירוני ומטרופוליני+תחרות חולון   \n214847          2           0                             אונו-אלעד   \n114203          2           0                               תל אביב   \n104210          2           #                      שרון חולון מרחבי   \n116209          1           0                               תל אביב   \n...           ...         ...                                   ...   \n96739           2           0                             אונו-אלעד   \n52865           2           0                          מזרחי-רמת גן   \n190748          1           0                    דרומי-ראשל\"צ-חולון   \n118327          2           0                    דרומי-ראשל\"צ-חולון   \n60718           1           #  חולון עירוני ומטרופוליני+תחרות חולון   \n\n        station_index  station_id                 station_name arrival_time  \\\n13984              39       36060                 רוטשילד/הרצל     14:43:00   \n214847             30       31674                 רוטשילד/קק\"ל     09:02:00   \n114203             29       21446           עירוני ה'/בן יהודה     20:22:16   \n104210             17       26831          שדרות ביאליק/עירייה     17:56:00   \n116209             11       25614          היכל התרבות/דיזנגוף     19:19:00   \n...               ...         ...                          ...          ...   \n96739              12       31333  דרך העצמאות/יעקב בר סימנטוב     14:58:00   \n52865               8       21319              הירדן/ אלוף שדה     18:38:00   \n190748             26       36172          כ\"ט בנובמבר/אלי כהן     14:04:00   \n118327             21       36387             ההסתדרות/מוהליבר     07:11:00   \n60718              40       36388            תל גיבורים/המצודה     12:17:10   \n\n       door_closing_time  arrival_is_estimated   latitude  longitude  \\\n13984           14:43:00                 False  32.026660  34.742650   \n214847          09:02:00                 False  32.080040  34.884193   \n114203               NaN                  True  32.095050  34.775550   \n104210          17:57:00                 False  32.144710  34.842830   \n116209          19:20:00                 False  32.074360  34.778230   \n...                  ...                   ...        ...        ...   \n96739           14:58:00                 False  32.028145  34.884773   \n52865           18:39:00                 False  32.059310  34.828290   \n190748          14:04:00                 False  32.009040  34.757060   \n118327          07:11:00                 False  32.016490  34.782760   \n60718                NaN                  True  32.032370  34.767900   \n\n        passengers_continue  mekadem_nipuach_luz  passengers_continue_menupach  \n13984                     7             2.250000                     15.750000  \n214847                   16             2.000000                     32.000000  \n114203                    4             0.545455                      2.181818  \n104210                    7             2.800000                     19.600000  \n116209                   27             2.300000                     62.100000  \n...                     ...                  ...                           ...  \n96739                    16             3.000000                     48.000000  \n52865                    16             2.500000                     40.000000  \n190748                   25             2.125000                     53.125000  \n118327                   33             3.000000                     99.000000  \n60718                     0             2.333333                      0.000000  \n\n[32221 rows x 19 columns]",
      "text/html": "<div>\n<style scoped>\n    .dataframe tbody tr th:only-of-type {\n        vertical-align: middle;\n    }\n\n    .dataframe tbody tr th {\n        vertical-align: top;\n    }\n\n    .dataframe thead th {\n        text-align: right;\n    }\n</style>\n<table border=\"1\" class=\"dataframe\">\n  <thead>\n    <tr style=\"text-align: right;\">\n      <th></th>\n      <th>trip_id</th>\n      <th>part</th>\n      <th>trip_id_unique_station</th>\n      <th>trip_id_unique</th>\n      <th>line_id</th>\n      <th>direction</th>\n      <th>alternative</th>\n      <th>cluster</th>\n      <th>station_index</th>\n      <th>station_id</th>\n      <th>station_name</th>\n      <th>arrival_time</th>\n      <th>door_closing_time</th>\n      <th>arrival_is_estimated</th>\n      <th>latitude</th>\n      <th>longitude</th>\n      <th>passengers_continue</th>\n      <th>mekadem_nipuach_luz</th>\n      <th>passengers_continue_menupach</th>\n    </tr>\n  </thead>\n  <tbody>\n    <tr>\n      <th>13984</th>\n      <td>310854</td>\n      <td>ב</td>\n      <td>310854b39</td>\n      <td>310854b</td>\n      <td>27087</td>\n      <td>1</td>\n      <td>#</td>\n      <td>חולון עירוני ומטרופוליני+תחרות חולון</td>\n      <td>39</td>\n      <td>36060</td>\n      <td>רוטשילד/הרצל</td>\n      <td>14:43:00</td>\n      <td>14:43:00</td>\n      <td>False</td>\n      <td>32.026660</td>\n      <td>34.742650</td>\n      <td>7</td>\n      <td>2.250000</td>\n      <td>15.750000</td>\n    </tr>\n    <tr>\n      <th>214847</th>\n      <td>314556</td>\n      <td>ג</td>\n      <td>314556c30</td>\n      <td>314556c</td>\n      <td>23076</td>\n      <td>2</td>\n      <td>0</td>\n      <td>אונו-אלעד</td>\n      <td>30</td>\n      <td>31674</td>\n      <td>רוטשילד/קק\"ל</td>\n      <td>09:02:00</td>\n      <td>09:02:00</td>\n      <td>False</td>\n      <td>32.080040</td>\n      <td>34.884193</td>\n      <td>16</td>\n      <td>2.000000</td>\n      <td>32.000000</td>\n    </tr>\n    <tr>\n      <th>114203</th>\n      <td>210684</td>\n      <td>ב</td>\n      <td>210684b29</td>\n      <td>210684b</td>\n      <td>27004</td>\n      <td>2</td>\n      <td>0</td>\n      <td>תל אביב</td>\n      <td>29</td>\n      <td>21446</td>\n      <td>עירוני ה'/בן יהודה</td>\n      <td>20:22:16</td>\n      <td>NaN</td>\n      <td>True</td>\n      <td>32.095050</td>\n      <td>34.775550</td>\n      <td>4</td>\n      <td>0.545455</td>\n      <td>2.181818</td>\n    </tr>\n    <tr>\n      <th>104210</th>\n      <td>118336</td>\n      <td>א</td>\n      <td>118336a17</td>\n      <td>118336a</td>\n      <td>16024</td>\n      <td>2</td>\n      <td>#</td>\n      <td>שרון חולון מרחבי</td>\n      <td>17</td>\n      <td>26831</td>\n      <td>שדרות ביאליק/עירייה</td>\n      <td>17:56:00</td>\n      <td>17:57:00</td>\n      <td>False</td>\n      <td>32.144710</td>\n      <td>34.842830</td>\n      <td>7</td>\n      <td>2.800000</td>\n      <td>19.600000</td>\n    </tr>\n    <tr>\n      <th>116209</th>\n      <td>218076</td>\n      <td>א</td>\n      <td>218076a11</td>\n      <td>218076a</td>\n      <td>25005</td>\n      <td>1</td>\n      <td>0</td>\n      <td>תל אביב</td>\n      <td>11</td>\n      <td>25614</td>\n      <td>היכל התרבות/דיזנגוף</td>\n      <td>19:19:00</td>\n      <td>19:20:00</td>\n      <td>False</td>\n      <td>32.074360</td>\n      <td>34.778230</td>\n      <td>27</td>\n      <td>2.300000</td>\n      <td>62.100000</td>\n    </tr>\n    <tr>\n      <th>...</th>\n      <td>...</td>\n      <td>...</td>\n      <td>...</td>\n      <td>...</td>\n      <td>...</td>\n      <td>...</td>\n      <td>...</td>\n      <td>...</td>\n      <td>...</td>\n      <td>...</td>\n      <td>...</td>\n      <td>...</td>\n      <td>...</td>\n      <td>...</td>\n      <td>...</td>\n      <td>...</td>\n      <td>...</td>\n      <td>...</td>\n      <td>...</td>\n    </tr>\n    <tr>\n      <th>96739</th>\n      <td>314002</td>\n      <td>ג</td>\n      <td>314002c12</td>\n      <td>314002c</td>\n      <td>21037</td>\n      <td>2</td>\n      <td>0</td>\n      <td>אונו-אלעד</td>\n      <td>12</td>\n      <td>31333</td>\n      <td>דרך העצמאות/יעקב בר סימנטוב</td>\n      <td>14:58:00</td>\n      <td>14:58:00</td>\n      <td>False</td>\n      <td>32.028145</td>\n      <td>34.884773</td>\n      <td>16</td>\n      <td>3.000000</td>\n      <td>48.000000</td>\n    </tr>\n    <tr>\n      <th>52865</th>\n      <td>415530</td>\n      <td>א</td>\n      <td>415530a8</td>\n      <td>415530a</td>\n      <td>13067</td>\n      <td>2</td>\n      <td>0</td>\n      <td>מזרחי-רמת גן</td>\n      <td>8</td>\n      <td>21319</td>\n      <td>הירדן/ אלוף שדה</td>\n      <td>18:38:00</td>\n      <td>18:39:00</td>\n      <td>False</td>\n      <td>32.059310</td>\n      <td>34.828290</td>\n      <td>16</td>\n      <td>2.500000</td>\n      <td>40.000000</td>\n    </tr>\n    <tr>\n      <th>190748</th>\n      <td>313824</td>\n      <td>א</td>\n      <td>313824a26</td>\n      <td>313824a</td>\n      <td>18019</td>\n      <td>1</td>\n      <td>0</td>\n      <td>דרומי-ראשל\"צ-חולון</td>\n      <td>26</td>\n      <td>36172</td>\n      <td>כ\"ט בנובמבר/אלי כהן</td>\n      <td>14:04:00</td>\n      <td>14:04:00</td>\n      <td>False</td>\n      <td>32.009040</td>\n      <td>34.757060</td>\n      <td>25</td>\n      <td>2.125000</td>\n      <td>53.125000</td>\n    </tr>\n    <tr>\n      <th>118327</th>\n      <td>311414</td>\n      <td>א</td>\n      <td>311414a21</td>\n      <td>311414a</td>\n      <td>12172</td>\n      <td>2</td>\n      <td>0</td>\n      <td>דרומי-ראשל\"צ-חולון</td>\n      <td>21</td>\n      <td>36387</td>\n      <td>ההסתדרות/מוהליבר</td>\n      <td>07:11:00</td>\n      <td>07:11:00</td>\n      <td>False</td>\n      <td>32.016490</td>\n      <td>34.782760</td>\n      <td>33</td>\n      <td>3.000000</td>\n      <td>99.000000</td>\n    </tr>\n    <tr>\n      <th>60718</th>\n      <td>313165</td>\n      <td>א</td>\n      <td>313165a40</td>\n      <td>313165a</td>\n      <td>15145</td>\n      <td>1</td>\n      <td>#</td>\n      <td>חולון עירוני ומטרופוליני+תחרות חולון</td>\n      <td>40</td>\n      <td>36388</td>\n      <td>תל גיבורים/המצודה</td>\n      <td>12:17:10</td>\n      <td>NaN</td>\n      <td>True</td>\n      <td>32.032370</td>\n      <td>34.767900</td>\n      <td>0</td>\n      <td>2.333333</td>\n      <td>0.000000</td>\n    </tr>\n  </tbody>\n</table>\n<p>32221 rows × 19 columns</p>\n</div>"
     },
     "execution_count": 36,
     "metadata": {},
     "output_type": "execute_result"
    }
   ],
   "source": [
    "xgboost_X"
   ],
   "metadata": {
    "collapsed": false,
    "ExecuteTime": {
     "end_time": "2024-07-04T13:30:15.635158300Z",
     "start_time": "2024-07-04T13:30:15.586524500Z"
    }
   },
   "id": "7e0c4b73b8b08b9b"
  },
  {
   "cell_type": "code",
   "execution_count": 37,
   "outputs": [],
   "source": [
    "# Save the trip_id_unique_station column\n",
    "trip_id_unique_station = xgboost_X[\"trip_id_unique_station\"].copy()\n",
    "\n",
    "# Convert to datetime\n",
    "X = xgboost_X.copy()  # To avoid SettingWithCopyWarning\n",
    "X.loc[:, 'door_closing_time'] = pd.to_datetime(X['door_closing_time'])\n",
    "X.loc[:, 'arrival_time'] = pd.to_datetime(X['arrival_time'])"
   ],
   "metadata": {
    "collapsed": false,
    "ExecuteTime": {
     "end_time": "2024-07-04T13:30:23.913299900Z",
     "start_time": "2024-07-04T13:30:22.939788800Z"
    }
   },
   "id": "b7a15f99aeafc21a"
  },
  {
   "cell_type": "code",
   "execution_count": 39,
   "outputs": [
    {
     "data": {
      "text/plain": "        trip_id part trip_id_unique_station trip_id_unique  line_id  \\\n13984    310854    ב              310854b39        310854b    27087   \n214847   314556    ג              314556c30        314556c    23076   \n114203   210684    ב              210684b29        210684b    27004   \n104210   118336    א              118336a17        118336a    16024   \n116209   218076    א              218076a11        218076a    25005   \n...         ...  ...                    ...            ...      ...   \n96739    314002    ג              314002c12        314002c    21037   \n52865    415530    א               415530a8        415530a    13067   \n190748   313824    א              313824a26        313824a    18019   \n118327   311414    א              311414a21        311414a    12172   \n60718    313165    א              313165a40        313165a    15145   \n\n        direction alternative                               cluster  \\\n13984           1           #  חולון עירוני ומטרופוליני+תחרות חולון   \n214847          2           0                             אונו-אלעד   \n114203          2           0                               תל אביב   \n104210          2           #                      שרון חולון מרחבי   \n116209          1           0                               תל אביב   \n...           ...         ...                                   ...   \n96739           2           0                             אונו-אלעד   \n52865           2           0                          מזרחי-רמת גן   \n190748          1           0                    דרומי-ראשל\"צ-חולון   \n118327          2           0                    דרומי-ראשל\"צ-חולון   \n60718           1           #  חולון עירוני ומטרופוליני+תחרות חולון   \n\n        station_index  station_id                 station_name  \\\n13984              39       36060                 רוטשילד/הרצל   \n214847             30       31674                 רוטשילד/קק\"ל   \n114203             29       21446           עירוני ה'/בן יהודה   \n104210             17       26831          שדרות ביאליק/עירייה   \n116209             11       25614          היכל התרבות/דיזנגוף   \n...               ...         ...                          ...   \n96739              12       31333  דרך העצמאות/יעקב בר סימנטוב   \n52865               8       21319              הירדן/ אלוף שדה   \n190748             26       36172          כ\"ט בנובמבר/אלי כהן   \n118327             21       36387             ההסתדרות/מוהליבר   \n60718              40       36388            תל גיבורים/המצודה   \n\n              arrival_time   door_closing_time  arrival_is_estimated  \\\n13984  2024-07-04 14:43:00 2024-07-04 14:43:00                 False   \n214847 2024-07-04 09:02:00 2024-07-04 09:02:00                 False   \n114203 2024-07-04 20:22:16                 NaT                  True   \n104210 2024-07-04 17:56:00 2024-07-04 17:57:00                 False   \n116209 2024-07-04 19:19:00 2024-07-04 19:20:00                 False   \n...                    ...                 ...                   ...   \n96739  2024-07-04 14:58:00 2024-07-04 14:58:00                 False   \n52865  2024-07-04 18:38:00 2024-07-04 18:39:00                 False   \n190748 2024-07-04 14:04:00 2024-07-04 14:04:00                 False   \n118327 2024-07-04 07:11:00 2024-07-04 07:11:00                 False   \n60718  2024-07-04 12:17:10                 NaT                  True   \n\n         latitude  longitude  passengers_continue  mekadem_nipuach_luz  \\\n13984   32.026660  34.742650                    7             2.250000   \n214847  32.080040  34.884193                   16             2.000000   \n114203  32.095050  34.775550                    4             0.545455   \n104210  32.144710  34.842830                    7             2.800000   \n116209  32.074360  34.778230                   27             2.300000   \n...           ...        ...                  ...                  ...   \n96739   32.028145  34.884773                   16             3.000000   \n52865   32.059310  34.828290                   16             2.500000   \n190748  32.009040  34.757060                   25             2.125000   \n118327  32.016490  34.782760                   33             3.000000   \n60718   32.032370  34.767900                    0             2.333333   \n\n        passengers_continue_menupach  \n13984                      15.750000  \n214847                     32.000000  \n114203                      2.181818  \n104210                     19.600000  \n116209                     62.100000  \n...                              ...  \n96739                      48.000000  \n52865                      40.000000  \n190748                     53.125000  \n118327                     99.000000  \n60718                       0.000000  \n\n[32221 rows x 19 columns]",
      "text/html": "<div>\n<style scoped>\n    .dataframe tbody tr th:only-of-type {\n        vertical-align: middle;\n    }\n\n    .dataframe tbody tr th {\n        vertical-align: top;\n    }\n\n    .dataframe thead th {\n        text-align: right;\n    }\n</style>\n<table border=\"1\" class=\"dataframe\">\n  <thead>\n    <tr style=\"text-align: right;\">\n      <th></th>\n      <th>trip_id</th>\n      <th>part</th>\n      <th>trip_id_unique_station</th>\n      <th>trip_id_unique</th>\n      <th>line_id</th>\n      <th>direction</th>\n      <th>alternative</th>\n      <th>cluster</th>\n      <th>station_index</th>\n      <th>station_id</th>\n      <th>station_name</th>\n      <th>arrival_time</th>\n      <th>door_closing_time</th>\n      <th>arrival_is_estimated</th>\n      <th>latitude</th>\n      <th>longitude</th>\n      <th>passengers_continue</th>\n      <th>mekadem_nipuach_luz</th>\n      <th>passengers_continue_menupach</th>\n    </tr>\n  </thead>\n  <tbody>\n    <tr>\n      <th>13984</th>\n      <td>310854</td>\n      <td>ב</td>\n      <td>310854b39</td>\n      <td>310854b</td>\n      <td>27087</td>\n      <td>1</td>\n      <td>#</td>\n      <td>חולון עירוני ומטרופוליני+תחרות חולון</td>\n      <td>39</td>\n      <td>36060</td>\n      <td>רוטשילד/הרצל</td>\n      <td>2024-07-04 14:43:00</td>\n      <td>2024-07-04 14:43:00</td>\n      <td>False</td>\n      <td>32.026660</td>\n      <td>34.742650</td>\n      <td>7</td>\n      <td>2.250000</td>\n      <td>15.750000</td>\n    </tr>\n    <tr>\n      <th>214847</th>\n      <td>314556</td>\n      <td>ג</td>\n      <td>314556c30</td>\n      <td>314556c</td>\n      <td>23076</td>\n      <td>2</td>\n      <td>0</td>\n      <td>אונו-אלעד</td>\n      <td>30</td>\n      <td>31674</td>\n      <td>רוטשילד/קק\"ל</td>\n      <td>2024-07-04 09:02:00</td>\n      <td>2024-07-04 09:02:00</td>\n      <td>False</td>\n      <td>32.080040</td>\n      <td>34.884193</td>\n      <td>16</td>\n      <td>2.000000</td>\n      <td>32.000000</td>\n    </tr>\n    <tr>\n      <th>114203</th>\n      <td>210684</td>\n      <td>ב</td>\n      <td>210684b29</td>\n      <td>210684b</td>\n      <td>27004</td>\n      <td>2</td>\n      <td>0</td>\n      <td>תל אביב</td>\n      <td>29</td>\n      <td>21446</td>\n      <td>עירוני ה'/בן יהודה</td>\n      <td>2024-07-04 20:22:16</td>\n      <td>NaT</td>\n      <td>True</td>\n      <td>32.095050</td>\n      <td>34.775550</td>\n      <td>4</td>\n      <td>0.545455</td>\n      <td>2.181818</td>\n    </tr>\n    <tr>\n      <th>104210</th>\n      <td>118336</td>\n      <td>א</td>\n      <td>118336a17</td>\n      <td>118336a</td>\n      <td>16024</td>\n      <td>2</td>\n      <td>#</td>\n      <td>שרון חולון מרחבי</td>\n      <td>17</td>\n      <td>26831</td>\n      <td>שדרות ביאליק/עירייה</td>\n      <td>2024-07-04 17:56:00</td>\n      <td>2024-07-04 17:57:00</td>\n      <td>False</td>\n      <td>32.144710</td>\n      <td>34.842830</td>\n      <td>7</td>\n      <td>2.800000</td>\n      <td>19.600000</td>\n    </tr>\n    <tr>\n      <th>116209</th>\n      <td>218076</td>\n      <td>א</td>\n      <td>218076a11</td>\n      <td>218076a</td>\n      <td>25005</td>\n      <td>1</td>\n      <td>0</td>\n      <td>תל אביב</td>\n      <td>11</td>\n      <td>25614</td>\n      <td>היכל התרבות/דיזנגוף</td>\n      <td>2024-07-04 19:19:00</td>\n      <td>2024-07-04 19:20:00</td>\n      <td>False</td>\n      <td>32.074360</td>\n      <td>34.778230</td>\n      <td>27</td>\n      <td>2.300000</td>\n      <td>62.100000</td>\n    </tr>\n    <tr>\n      <th>...</th>\n      <td>...</td>\n      <td>...</td>\n      <td>...</td>\n      <td>...</td>\n      <td>...</td>\n      <td>...</td>\n      <td>...</td>\n      <td>...</td>\n      <td>...</td>\n      <td>...</td>\n      <td>...</td>\n      <td>...</td>\n      <td>...</td>\n      <td>...</td>\n      <td>...</td>\n      <td>...</td>\n      <td>...</td>\n      <td>...</td>\n      <td>...</td>\n    </tr>\n    <tr>\n      <th>96739</th>\n      <td>314002</td>\n      <td>ג</td>\n      <td>314002c12</td>\n      <td>314002c</td>\n      <td>21037</td>\n      <td>2</td>\n      <td>0</td>\n      <td>אונו-אלעד</td>\n      <td>12</td>\n      <td>31333</td>\n      <td>דרך העצמאות/יעקב בר סימנטוב</td>\n      <td>2024-07-04 14:58:00</td>\n      <td>2024-07-04 14:58:00</td>\n      <td>False</td>\n      <td>32.028145</td>\n      <td>34.884773</td>\n      <td>16</td>\n      <td>3.000000</td>\n      <td>48.000000</td>\n    </tr>\n    <tr>\n      <th>52865</th>\n      <td>415530</td>\n      <td>א</td>\n      <td>415530a8</td>\n      <td>415530a</td>\n      <td>13067</td>\n      <td>2</td>\n      <td>0</td>\n      <td>מזרחי-רמת גן</td>\n      <td>8</td>\n      <td>21319</td>\n      <td>הירדן/ אלוף שדה</td>\n      <td>2024-07-04 18:38:00</td>\n      <td>2024-07-04 18:39:00</td>\n      <td>False</td>\n      <td>32.059310</td>\n      <td>34.828290</td>\n      <td>16</td>\n      <td>2.500000</td>\n      <td>40.000000</td>\n    </tr>\n    <tr>\n      <th>190748</th>\n      <td>313824</td>\n      <td>א</td>\n      <td>313824a26</td>\n      <td>313824a</td>\n      <td>18019</td>\n      <td>1</td>\n      <td>0</td>\n      <td>דרומי-ראשל\"צ-חולון</td>\n      <td>26</td>\n      <td>36172</td>\n      <td>כ\"ט בנובמבר/אלי כהן</td>\n      <td>2024-07-04 14:04:00</td>\n      <td>2024-07-04 14:04:00</td>\n      <td>False</td>\n      <td>32.009040</td>\n      <td>34.757060</td>\n      <td>25</td>\n      <td>2.125000</td>\n      <td>53.125000</td>\n    </tr>\n    <tr>\n      <th>118327</th>\n      <td>311414</td>\n      <td>א</td>\n      <td>311414a21</td>\n      <td>311414a</td>\n      <td>12172</td>\n      <td>2</td>\n      <td>0</td>\n      <td>דרומי-ראשל\"צ-חולון</td>\n      <td>21</td>\n      <td>36387</td>\n      <td>ההסתדרות/מוהליבר</td>\n      <td>2024-07-04 07:11:00</td>\n      <td>2024-07-04 07:11:00</td>\n      <td>False</td>\n      <td>32.016490</td>\n      <td>34.782760</td>\n      <td>33</td>\n      <td>3.000000</td>\n      <td>99.000000</td>\n    </tr>\n    <tr>\n      <th>60718</th>\n      <td>313165</td>\n      <td>א</td>\n      <td>313165a40</td>\n      <td>313165a</td>\n      <td>15145</td>\n      <td>1</td>\n      <td>#</td>\n      <td>חולון עירוני ומטרופוליני+תחרות חולון</td>\n      <td>40</td>\n      <td>36388</td>\n      <td>תל גיבורים/המצודה</td>\n      <td>2024-07-04 12:17:10</td>\n      <td>NaT</td>\n      <td>True</td>\n      <td>32.032370</td>\n      <td>34.767900</td>\n      <td>0</td>\n      <td>2.333333</td>\n      <td>0.000000</td>\n    </tr>\n  </tbody>\n</table>\n<p>32221 rows × 19 columns</p>\n</div>"
     },
     "execution_count": 39,
     "metadata": {},
     "output_type": "execute_result"
    }
   ],
   "source": [
    "X"
   ],
   "metadata": {
    "collapsed": false,
    "ExecuteTime": {
     "end_time": "2024-07-04T13:30:31.188406300Z",
     "start_time": "2024-07-04T13:30:31.128894200Z"
    }
   },
   "id": "96dc04d37bd5ee9"
  },
  {
   "cell_type": "code",
   "execution_count": 40,
   "outputs": [],
   "source": [
    "# Create door delta columns\n",
    "X[\"door_close_delta\"] = None\n",
    "mask_notna = X[\"door_closing_time\"].notna()\n",
    "X.loc[mask_notna, 'door_close_delta'] = (\n",
    "        X.loc[mask_notna, 'door_closing_time'] - X.loc[mask_notna, 'arrival_time']\n",
    ").dt.total_seconds()\n",
    "door_delta_mean = X[\"door_close_delta\"].mean()\n",
    "X[\"door_close_delta\"] = X[\"door_close_delta\"].fillna(door_delta_mean)"
   ],
   "metadata": {
    "collapsed": false,
    "ExecuteTime": {
     "end_time": "2024-07-04T13:30:33.014213Z",
     "start_time": "2024-07-04T13:30:32.950605600Z"
    }
   },
   "id": "70027f15aa12b3fe"
  },
  {
   "cell_type": "code",
   "execution_count": 41,
   "outputs": [
    {
     "data": {
      "text/plain": "        trip_id part trip_id_unique_station trip_id_unique  line_id  \\\n13984    310854    ב              310854b39        310854b    27087   \n214847   314556    ג              314556c30        314556c    23076   \n114203   210684    ב              210684b29        210684b    27004   \n104210   118336    א              118336a17        118336a    16024   \n116209   218076    א              218076a11        218076a    25005   \n...         ...  ...                    ...            ...      ...   \n96739    314002    ג              314002c12        314002c    21037   \n52865    415530    א               415530a8        415530a    13067   \n190748   313824    א              313824a26        313824a    18019   \n118327   311414    א              311414a21        311414a    12172   \n60718    313165    א              313165a40        313165a    15145   \n\n        direction alternative                               cluster  \\\n13984           1           #  חולון עירוני ומטרופוליני+תחרות חולון   \n214847          2           0                             אונו-אלעד   \n114203          2           0                               תל אביב   \n104210          2           #                      שרון חולון מרחבי   \n116209          1           0                               תל אביב   \n...           ...         ...                                   ...   \n96739           2           0                             אונו-אלעד   \n52865           2           0                          מזרחי-רמת גן   \n190748          1           0                    דרומי-ראשל\"צ-חולון   \n118327          2           0                    דרומי-ראשל\"צ-חולון   \n60718           1           #  חולון עירוני ומטרופוליני+תחרות חולון   \n\n        station_index  station_id                 station_name  \\\n13984              39       36060                 רוטשילד/הרצל   \n214847             30       31674                 רוטשילד/קק\"ל   \n114203             29       21446           עירוני ה'/בן יהודה   \n104210             17       26831          שדרות ביאליק/עירייה   \n116209             11       25614          היכל התרבות/דיזנגוף   \n...               ...         ...                          ...   \n96739              12       31333  דרך העצמאות/יעקב בר סימנטוב   \n52865               8       21319              הירדן/ אלוף שדה   \n190748             26       36172          כ\"ט בנובמבר/אלי כהן   \n118327             21       36387             ההסתדרות/מוהליבר   \n60718              40       36388            תל גיבורים/המצודה   \n\n              arrival_time   door_closing_time  arrival_is_estimated  \\\n13984  2024-07-04 14:43:00 2024-07-04 14:43:00                 False   \n214847 2024-07-04 09:02:00 2024-07-04 09:02:00                 False   \n114203 2024-07-04 20:22:16                 NaT                  True   \n104210 2024-07-04 17:56:00 2024-07-04 17:57:00                 False   \n116209 2024-07-04 19:19:00 2024-07-04 19:20:00                 False   \n...                    ...                 ...                   ...   \n96739  2024-07-04 14:58:00 2024-07-04 14:58:00                 False   \n52865  2024-07-04 18:38:00 2024-07-04 18:39:00                 False   \n190748 2024-07-04 14:04:00 2024-07-04 14:04:00                 False   \n118327 2024-07-04 07:11:00 2024-07-04 07:11:00                 False   \n60718  2024-07-04 12:17:10                 NaT                  True   \n\n         latitude  longitude  passengers_continue  mekadem_nipuach_luz  \\\n13984   32.026660  34.742650                    7             2.250000   \n214847  32.080040  34.884193                   16             2.000000   \n114203  32.095050  34.775550                    4             0.545455   \n104210  32.144710  34.842830                    7             2.800000   \n116209  32.074360  34.778230                   27             2.300000   \n...           ...        ...                  ...                  ...   \n96739   32.028145  34.884773                   16             3.000000   \n52865   32.059310  34.828290                   16             2.500000   \n190748  32.009040  34.757060                   25             2.125000   \n118327  32.016490  34.782760                   33             3.000000   \n60718   32.032370  34.767900                    0             2.333333   \n\n        passengers_continue_menupach  door_close_delta  \n13984                      15.750000          0.000000  \n214847                     32.000000          0.000000  \n114203                      2.181818         12.362385  \n104210                     19.600000         60.000000  \n116209                     62.100000         60.000000  \n...                              ...               ...  \n96739                      48.000000          0.000000  \n52865                      40.000000         60.000000  \n190748                     53.125000          0.000000  \n118327                     99.000000          0.000000  \n60718                       0.000000         12.362385  \n\n[32221 rows x 20 columns]",
      "text/html": "<div>\n<style scoped>\n    .dataframe tbody tr th:only-of-type {\n        vertical-align: middle;\n    }\n\n    .dataframe tbody tr th {\n        vertical-align: top;\n    }\n\n    .dataframe thead th {\n        text-align: right;\n    }\n</style>\n<table border=\"1\" class=\"dataframe\">\n  <thead>\n    <tr style=\"text-align: right;\">\n      <th></th>\n      <th>trip_id</th>\n      <th>part</th>\n      <th>trip_id_unique_station</th>\n      <th>trip_id_unique</th>\n      <th>line_id</th>\n      <th>direction</th>\n      <th>alternative</th>\n      <th>cluster</th>\n      <th>station_index</th>\n      <th>station_id</th>\n      <th>station_name</th>\n      <th>arrival_time</th>\n      <th>door_closing_time</th>\n      <th>arrival_is_estimated</th>\n      <th>latitude</th>\n      <th>longitude</th>\n      <th>passengers_continue</th>\n      <th>mekadem_nipuach_luz</th>\n      <th>passengers_continue_menupach</th>\n      <th>door_close_delta</th>\n    </tr>\n  </thead>\n  <tbody>\n    <tr>\n      <th>13984</th>\n      <td>310854</td>\n      <td>ב</td>\n      <td>310854b39</td>\n      <td>310854b</td>\n      <td>27087</td>\n      <td>1</td>\n      <td>#</td>\n      <td>חולון עירוני ומטרופוליני+תחרות חולון</td>\n      <td>39</td>\n      <td>36060</td>\n      <td>רוטשילד/הרצל</td>\n      <td>2024-07-04 14:43:00</td>\n      <td>2024-07-04 14:43:00</td>\n      <td>False</td>\n      <td>32.026660</td>\n      <td>34.742650</td>\n      <td>7</td>\n      <td>2.250000</td>\n      <td>15.750000</td>\n      <td>0.000000</td>\n    </tr>\n    <tr>\n      <th>214847</th>\n      <td>314556</td>\n      <td>ג</td>\n      <td>314556c30</td>\n      <td>314556c</td>\n      <td>23076</td>\n      <td>2</td>\n      <td>0</td>\n      <td>אונו-אלעד</td>\n      <td>30</td>\n      <td>31674</td>\n      <td>רוטשילד/קק\"ל</td>\n      <td>2024-07-04 09:02:00</td>\n      <td>2024-07-04 09:02:00</td>\n      <td>False</td>\n      <td>32.080040</td>\n      <td>34.884193</td>\n      <td>16</td>\n      <td>2.000000</td>\n      <td>32.000000</td>\n      <td>0.000000</td>\n    </tr>\n    <tr>\n      <th>114203</th>\n      <td>210684</td>\n      <td>ב</td>\n      <td>210684b29</td>\n      <td>210684b</td>\n      <td>27004</td>\n      <td>2</td>\n      <td>0</td>\n      <td>תל אביב</td>\n      <td>29</td>\n      <td>21446</td>\n      <td>עירוני ה'/בן יהודה</td>\n      <td>2024-07-04 20:22:16</td>\n      <td>NaT</td>\n      <td>True</td>\n      <td>32.095050</td>\n      <td>34.775550</td>\n      <td>4</td>\n      <td>0.545455</td>\n      <td>2.181818</td>\n      <td>12.362385</td>\n    </tr>\n    <tr>\n      <th>104210</th>\n      <td>118336</td>\n      <td>א</td>\n      <td>118336a17</td>\n      <td>118336a</td>\n      <td>16024</td>\n      <td>2</td>\n      <td>#</td>\n      <td>שרון חולון מרחבי</td>\n      <td>17</td>\n      <td>26831</td>\n      <td>שדרות ביאליק/עירייה</td>\n      <td>2024-07-04 17:56:00</td>\n      <td>2024-07-04 17:57:00</td>\n      <td>False</td>\n      <td>32.144710</td>\n      <td>34.842830</td>\n      <td>7</td>\n      <td>2.800000</td>\n      <td>19.600000</td>\n      <td>60.000000</td>\n    </tr>\n    <tr>\n      <th>116209</th>\n      <td>218076</td>\n      <td>א</td>\n      <td>218076a11</td>\n      <td>218076a</td>\n      <td>25005</td>\n      <td>1</td>\n      <td>0</td>\n      <td>תל אביב</td>\n      <td>11</td>\n      <td>25614</td>\n      <td>היכל התרבות/דיזנגוף</td>\n      <td>2024-07-04 19:19:00</td>\n      <td>2024-07-04 19:20:00</td>\n      <td>False</td>\n      <td>32.074360</td>\n      <td>34.778230</td>\n      <td>27</td>\n      <td>2.300000</td>\n      <td>62.100000</td>\n      <td>60.000000</td>\n    </tr>\n    <tr>\n      <th>...</th>\n      <td>...</td>\n      <td>...</td>\n      <td>...</td>\n      <td>...</td>\n      <td>...</td>\n      <td>...</td>\n      <td>...</td>\n      <td>...</td>\n      <td>...</td>\n      <td>...</td>\n      <td>...</td>\n      <td>...</td>\n      <td>...</td>\n      <td>...</td>\n      <td>...</td>\n      <td>...</td>\n      <td>...</td>\n      <td>...</td>\n      <td>...</td>\n      <td>...</td>\n    </tr>\n    <tr>\n      <th>96739</th>\n      <td>314002</td>\n      <td>ג</td>\n      <td>314002c12</td>\n      <td>314002c</td>\n      <td>21037</td>\n      <td>2</td>\n      <td>0</td>\n      <td>אונו-אלעד</td>\n      <td>12</td>\n      <td>31333</td>\n      <td>דרך העצמאות/יעקב בר סימנטוב</td>\n      <td>2024-07-04 14:58:00</td>\n      <td>2024-07-04 14:58:00</td>\n      <td>False</td>\n      <td>32.028145</td>\n      <td>34.884773</td>\n      <td>16</td>\n      <td>3.000000</td>\n      <td>48.000000</td>\n      <td>0.000000</td>\n    </tr>\n    <tr>\n      <th>52865</th>\n      <td>415530</td>\n      <td>א</td>\n      <td>415530a8</td>\n      <td>415530a</td>\n      <td>13067</td>\n      <td>2</td>\n      <td>0</td>\n      <td>מזרחי-רמת גן</td>\n      <td>8</td>\n      <td>21319</td>\n      <td>הירדן/ אלוף שדה</td>\n      <td>2024-07-04 18:38:00</td>\n      <td>2024-07-04 18:39:00</td>\n      <td>False</td>\n      <td>32.059310</td>\n      <td>34.828290</td>\n      <td>16</td>\n      <td>2.500000</td>\n      <td>40.000000</td>\n      <td>60.000000</td>\n    </tr>\n    <tr>\n      <th>190748</th>\n      <td>313824</td>\n      <td>א</td>\n      <td>313824a26</td>\n      <td>313824a</td>\n      <td>18019</td>\n      <td>1</td>\n      <td>0</td>\n      <td>דרומי-ראשל\"צ-חולון</td>\n      <td>26</td>\n      <td>36172</td>\n      <td>כ\"ט בנובמבר/אלי כהן</td>\n      <td>2024-07-04 14:04:00</td>\n      <td>2024-07-04 14:04:00</td>\n      <td>False</td>\n      <td>32.009040</td>\n      <td>34.757060</td>\n      <td>25</td>\n      <td>2.125000</td>\n      <td>53.125000</td>\n      <td>0.000000</td>\n    </tr>\n    <tr>\n      <th>118327</th>\n      <td>311414</td>\n      <td>א</td>\n      <td>311414a21</td>\n      <td>311414a</td>\n      <td>12172</td>\n      <td>2</td>\n      <td>0</td>\n      <td>דרומי-ראשל\"צ-חולון</td>\n      <td>21</td>\n      <td>36387</td>\n      <td>ההסתדרות/מוהליבר</td>\n      <td>2024-07-04 07:11:00</td>\n      <td>2024-07-04 07:11:00</td>\n      <td>False</td>\n      <td>32.016490</td>\n      <td>34.782760</td>\n      <td>33</td>\n      <td>3.000000</td>\n      <td>99.000000</td>\n      <td>0.000000</td>\n    </tr>\n    <tr>\n      <th>60718</th>\n      <td>313165</td>\n      <td>א</td>\n      <td>313165a40</td>\n      <td>313165a</td>\n      <td>15145</td>\n      <td>1</td>\n      <td>#</td>\n      <td>חולון עירוני ומטרופוליני+תחרות חולון</td>\n      <td>40</td>\n      <td>36388</td>\n      <td>תל גיבורים/המצודה</td>\n      <td>2024-07-04 12:17:10</td>\n      <td>NaT</td>\n      <td>True</td>\n      <td>32.032370</td>\n      <td>34.767900</td>\n      <td>0</td>\n      <td>2.333333</td>\n      <td>0.000000</td>\n      <td>12.362385</td>\n    </tr>\n  </tbody>\n</table>\n<p>32221 rows × 20 columns</p>\n</div>"
     },
     "execution_count": 41,
     "metadata": {},
     "output_type": "execute_result"
    }
   ],
   "source": [
    "X"
   ],
   "metadata": {
    "collapsed": false,
    "ExecuteTime": {
     "end_time": "2024-07-04T13:30:34.511664700Z",
     "start_time": "2024-07-04T13:30:34.429991300Z"
    }
   },
   "id": "ec0cbc27c17d078a"
  },
  {
   "cell_type": "code",
   "execution_count": 44,
   "outputs": [
    {
     "name": "stdout",
     "output_type": "stream",
     "text": [
      "Index(['trip_id', 'part', 'trip_id_unique_station', 'trip_id_unique',\n",
      "       'line_id', 'direction', 'alternative', 'cluster', 'station_index',\n",
      "       'station_id', 'station_name', 'arrival_time', 'door_closing_time',\n",
      "       'arrival_is_estimated', 'latitude', 'longitude', 'passengers_continue',\n",
      "       'mekadem_nipuach_luz', 'passengers_continue_menupach',\n",
      "       'door_close_delta', 'arrival_time_label'],\n",
      "      dtype='object')\n",
      "Index(['trip_id', 'part', 'trip_id_unique_station', 'trip_id_unique',\n",
      "       'line_id', 'direction', 'alternative', 'cluster', 'station_index',\n",
      "       'station_id', 'station_name', 'arrival_time', 'door_closing_time',\n",
      "       'arrival_is_estimated', 'latitude', 'longitude', 'passengers_continue',\n",
      "       'mekadem_nipuach_luz', 'passengers_continue_menupach',\n",
      "       'door_close_delta', 'arrival_time_label'],\n",
      "      dtype='object')\n",
      "Index(['trip_id', 'part', 'trip_id_unique_station', 'trip_id_unique',\n",
      "       'line_id', 'direction', 'alternative', 'cluster', 'station_index',\n",
      "       'station_id', 'station_name', 'arrival_time', 'door_closing_time',\n",
      "       'arrival_is_estimated', 'latitude', 'longitude', 'passengers_continue',\n",
      "       'mekadem_nipuach_luz', 'passengers_continue_menupach',\n",
      "       'door_close_delta', 'arrival_time_label'],\n",
      "      dtype='object')\n",
      "Index(['trip_id', 'part', 'trip_id_unique_station', 'trip_id_unique',\n",
      "       'line_id', 'direction', 'alternative', 'cluster', 'station_index',\n",
      "       'station_id', 'station_name', 'arrival_time', 'door_closing_time',\n",
      "       'arrival_is_estimated', 'latitude', 'longitude', 'passengers_continue',\n",
      "       'mekadem_nipuach_luz', 'passengers_continue_menupach',\n",
      "       'door_close_delta', 'arrival_time_label'],\n",
      "      dtype='object')\n"
     ]
    }
   ],
   "source": [
    "# Categorize arrival time\n",
    "arrival_hours = X['arrival_time'].dt.hour\n",
    "percentiles = arrival_hours.describe(percentiles=[0.1, 0.2, 0.3, 0.4, 0.5, 0.6, 0.7, 0.8, 0.9])\n",
    "percentile_values = percentiles.loc[\n",
    "    ['10%', '20%', '30%', '40%', '50%', '60%', '70%', '80%', '90%']\n",
    "].values\n",
    "labels = [f'{int(value)}' for value in percentile_values]\n",
    "labels.insert(0, '0')\n",
    "X['arrival_time_label'] = pd.cut(arrival_hours,\n",
    "                                 bins=[0] + list(percentile_values) + [24],\n",
    "                                 labels=labels,\n",
    "                                 include_lowest=True)"
   ],
   "metadata": {
    "collapsed": false,
    "ExecuteTime": {
     "end_time": "2024-07-04T13:32:39.790238800Z",
     "start_time": "2024-07-04T13:32:39.741749300Z"
    }
   },
   "id": "ab37db1c2729f17b"
  },
  {
   "cell_type": "code",
   "execution_count": 50,
   "outputs": [
    {
     "data": {
      "text/plain": "        trip_id part trip_id_unique_station trip_id_unique  line_id  \\\n13984    310854    ב              310854b39        310854b    27087   \n214847   314556    ג              314556c30        314556c    23076   \n114203   210684    ב              210684b29        210684b    27004   \n104210   118336    א              118336a17        118336a    16024   \n116209   218076    א              218076a11        218076a    25005   \n...         ...  ...                    ...            ...      ...   \n96739    314002    ג              314002c12        314002c    21037   \n52865    415530    א               415530a8        415530a    13067   \n190748   313824    א              313824a26        313824a    18019   \n118327   311414    א              311414a21        311414a    12172   \n60718    313165    א              313165a40        313165a    15145   \n\n        direction alternative                               cluster  \\\n13984           1           #  חולון עירוני ומטרופוליני+תחרות חולון   \n214847          2           0                             אונו-אלעד   \n114203          2           0                               תל אביב   \n104210          2           #                      שרון חולון מרחבי   \n116209          1           0                               תל אביב   \n...           ...         ...                                   ...   \n96739           2           0                             אונו-אלעד   \n52865           2           0                          מזרחי-רמת גן   \n190748          1           0                    דרומי-ראשל\"צ-חולון   \n118327          2           0                    דרומי-ראשל\"צ-חולון   \n60718           1           #  חולון עירוני ומטרופוליני+תחרות חולון   \n\n        station_index  station_id  ...        arrival_time  \\\n13984              39       36060  ... 2024-07-04 14:43:00   \n214847             30       31674  ... 2024-07-04 09:02:00   \n114203             29       21446  ... 2024-07-04 20:22:16   \n104210             17       26831  ... 2024-07-04 17:56:00   \n116209             11       25614  ... 2024-07-04 19:19:00   \n...               ...         ...  ...                 ...   \n96739              12       31333  ... 2024-07-04 14:58:00   \n52865               8       21319  ... 2024-07-04 18:38:00   \n190748             26       36172  ... 2024-07-04 14:04:00   \n118327             21       36387  ... 2024-07-04 07:11:00   \n60718              40       36388  ... 2024-07-04 12:17:10   \n\n         door_closing_time arrival_is_estimated   latitude  longitude  \\\n13984  2024-07-04 14:43:00                False  32.026660  34.742650   \n214847 2024-07-04 09:02:00                False  32.080040  34.884193   \n114203                 NaT                 True  32.095050  34.775550   \n104210 2024-07-04 17:57:00                False  32.144710  34.842830   \n116209 2024-07-04 19:20:00                False  32.074360  34.778230   \n...                    ...                  ...        ...        ...   \n96739  2024-07-04 14:58:00                False  32.028145  34.884773   \n52865  2024-07-04 18:39:00                False  32.059310  34.828290   \n190748 2024-07-04 14:04:00                False  32.009040  34.757060   \n118327 2024-07-04 07:11:00                False  32.016490  34.782760   \n60718                  NaT                 True  32.032370  34.767900   \n\n        passengers_continue  mekadem_nipuach_luz  \\\n13984                     7             2.250000   \n214847                   16             2.000000   \n114203                    4             0.545455   \n104210                    7             2.800000   \n116209                   27             2.300000   \n...                     ...                  ...   \n96739                    16             3.000000   \n52865                    16             2.500000   \n190748                   25             2.125000   \n118327                   33             3.000000   \n60718                     0             2.333333   \n\n        passengers_continue_menupach  door_close_delta  arrival_time_label  \n13984                      15.750000          0.000000                  13  \n214847                     32.000000          0.000000                   8  \n114203                      2.181818         12.362385                  18  \n104210                     19.600000         60.000000                  16  \n116209                     62.100000         60.000000                  18  \n...                              ...               ...                 ...  \n96739                      48.000000          0.000000                  13  \n52865                      40.000000         60.000000                  16  \n190748                     53.125000          0.000000                  13  \n118327                     99.000000          0.000000                   6  \n60718                       0.000000         12.362385                  11  \n\n[32221 rows x 21 columns]",
      "text/html": "<div>\n<style scoped>\n    .dataframe tbody tr th:only-of-type {\n        vertical-align: middle;\n    }\n\n    .dataframe tbody tr th {\n        vertical-align: top;\n    }\n\n    .dataframe thead th {\n        text-align: right;\n    }\n</style>\n<table border=\"1\" class=\"dataframe\">\n  <thead>\n    <tr style=\"text-align: right;\">\n      <th></th>\n      <th>trip_id</th>\n      <th>part</th>\n      <th>trip_id_unique_station</th>\n      <th>trip_id_unique</th>\n      <th>line_id</th>\n      <th>direction</th>\n      <th>alternative</th>\n      <th>cluster</th>\n      <th>station_index</th>\n      <th>station_id</th>\n      <th>...</th>\n      <th>arrival_time</th>\n      <th>door_closing_time</th>\n      <th>arrival_is_estimated</th>\n      <th>latitude</th>\n      <th>longitude</th>\n      <th>passengers_continue</th>\n      <th>mekadem_nipuach_luz</th>\n      <th>passengers_continue_menupach</th>\n      <th>door_close_delta</th>\n      <th>arrival_time_label</th>\n    </tr>\n  </thead>\n  <tbody>\n    <tr>\n      <th>13984</th>\n      <td>310854</td>\n      <td>ב</td>\n      <td>310854b39</td>\n      <td>310854b</td>\n      <td>27087</td>\n      <td>1</td>\n      <td>#</td>\n      <td>חולון עירוני ומטרופוליני+תחרות חולון</td>\n      <td>39</td>\n      <td>36060</td>\n      <td>...</td>\n      <td>2024-07-04 14:43:00</td>\n      <td>2024-07-04 14:43:00</td>\n      <td>False</td>\n      <td>32.026660</td>\n      <td>34.742650</td>\n      <td>7</td>\n      <td>2.250000</td>\n      <td>15.750000</td>\n      <td>0.000000</td>\n      <td>13</td>\n    </tr>\n    <tr>\n      <th>214847</th>\n      <td>314556</td>\n      <td>ג</td>\n      <td>314556c30</td>\n      <td>314556c</td>\n      <td>23076</td>\n      <td>2</td>\n      <td>0</td>\n      <td>אונו-אלעד</td>\n      <td>30</td>\n      <td>31674</td>\n      <td>...</td>\n      <td>2024-07-04 09:02:00</td>\n      <td>2024-07-04 09:02:00</td>\n      <td>False</td>\n      <td>32.080040</td>\n      <td>34.884193</td>\n      <td>16</td>\n      <td>2.000000</td>\n      <td>32.000000</td>\n      <td>0.000000</td>\n      <td>8</td>\n    </tr>\n    <tr>\n      <th>114203</th>\n      <td>210684</td>\n      <td>ב</td>\n      <td>210684b29</td>\n      <td>210684b</td>\n      <td>27004</td>\n      <td>2</td>\n      <td>0</td>\n      <td>תל אביב</td>\n      <td>29</td>\n      <td>21446</td>\n      <td>...</td>\n      <td>2024-07-04 20:22:16</td>\n      <td>NaT</td>\n      <td>True</td>\n      <td>32.095050</td>\n      <td>34.775550</td>\n      <td>4</td>\n      <td>0.545455</td>\n      <td>2.181818</td>\n      <td>12.362385</td>\n      <td>18</td>\n    </tr>\n    <tr>\n      <th>104210</th>\n      <td>118336</td>\n      <td>א</td>\n      <td>118336a17</td>\n      <td>118336a</td>\n      <td>16024</td>\n      <td>2</td>\n      <td>#</td>\n      <td>שרון חולון מרחבי</td>\n      <td>17</td>\n      <td>26831</td>\n      <td>...</td>\n      <td>2024-07-04 17:56:00</td>\n      <td>2024-07-04 17:57:00</td>\n      <td>False</td>\n      <td>32.144710</td>\n      <td>34.842830</td>\n      <td>7</td>\n      <td>2.800000</td>\n      <td>19.600000</td>\n      <td>60.000000</td>\n      <td>16</td>\n    </tr>\n    <tr>\n      <th>116209</th>\n      <td>218076</td>\n      <td>א</td>\n      <td>218076a11</td>\n      <td>218076a</td>\n      <td>25005</td>\n      <td>1</td>\n      <td>0</td>\n      <td>תל אביב</td>\n      <td>11</td>\n      <td>25614</td>\n      <td>...</td>\n      <td>2024-07-04 19:19:00</td>\n      <td>2024-07-04 19:20:00</td>\n      <td>False</td>\n      <td>32.074360</td>\n      <td>34.778230</td>\n      <td>27</td>\n      <td>2.300000</td>\n      <td>62.100000</td>\n      <td>60.000000</td>\n      <td>18</td>\n    </tr>\n    <tr>\n      <th>...</th>\n      <td>...</td>\n      <td>...</td>\n      <td>...</td>\n      <td>...</td>\n      <td>...</td>\n      <td>...</td>\n      <td>...</td>\n      <td>...</td>\n      <td>...</td>\n      <td>...</td>\n      <td>...</td>\n      <td>...</td>\n      <td>...</td>\n      <td>...</td>\n      <td>...</td>\n      <td>...</td>\n      <td>...</td>\n      <td>...</td>\n      <td>...</td>\n      <td>...</td>\n      <td>...</td>\n    </tr>\n    <tr>\n      <th>96739</th>\n      <td>314002</td>\n      <td>ג</td>\n      <td>314002c12</td>\n      <td>314002c</td>\n      <td>21037</td>\n      <td>2</td>\n      <td>0</td>\n      <td>אונו-אלעד</td>\n      <td>12</td>\n      <td>31333</td>\n      <td>...</td>\n      <td>2024-07-04 14:58:00</td>\n      <td>2024-07-04 14:58:00</td>\n      <td>False</td>\n      <td>32.028145</td>\n      <td>34.884773</td>\n      <td>16</td>\n      <td>3.000000</td>\n      <td>48.000000</td>\n      <td>0.000000</td>\n      <td>13</td>\n    </tr>\n    <tr>\n      <th>52865</th>\n      <td>415530</td>\n      <td>א</td>\n      <td>415530a8</td>\n      <td>415530a</td>\n      <td>13067</td>\n      <td>2</td>\n      <td>0</td>\n      <td>מזרחי-רמת גן</td>\n      <td>8</td>\n      <td>21319</td>\n      <td>...</td>\n      <td>2024-07-04 18:38:00</td>\n      <td>2024-07-04 18:39:00</td>\n      <td>False</td>\n      <td>32.059310</td>\n      <td>34.828290</td>\n      <td>16</td>\n      <td>2.500000</td>\n      <td>40.000000</td>\n      <td>60.000000</td>\n      <td>16</td>\n    </tr>\n    <tr>\n      <th>190748</th>\n      <td>313824</td>\n      <td>א</td>\n      <td>313824a26</td>\n      <td>313824a</td>\n      <td>18019</td>\n      <td>1</td>\n      <td>0</td>\n      <td>דרומי-ראשל\"צ-חולון</td>\n      <td>26</td>\n      <td>36172</td>\n      <td>...</td>\n      <td>2024-07-04 14:04:00</td>\n      <td>2024-07-04 14:04:00</td>\n      <td>False</td>\n      <td>32.009040</td>\n      <td>34.757060</td>\n      <td>25</td>\n      <td>2.125000</td>\n      <td>53.125000</td>\n      <td>0.000000</td>\n      <td>13</td>\n    </tr>\n    <tr>\n      <th>118327</th>\n      <td>311414</td>\n      <td>א</td>\n      <td>311414a21</td>\n      <td>311414a</td>\n      <td>12172</td>\n      <td>2</td>\n      <td>0</td>\n      <td>דרומי-ראשל\"צ-חולון</td>\n      <td>21</td>\n      <td>36387</td>\n      <td>...</td>\n      <td>2024-07-04 07:11:00</td>\n      <td>2024-07-04 07:11:00</td>\n      <td>False</td>\n      <td>32.016490</td>\n      <td>34.782760</td>\n      <td>33</td>\n      <td>3.000000</td>\n      <td>99.000000</td>\n      <td>0.000000</td>\n      <td>6</td>\n    </tr>\n    <tr>\n      <th>60718</th>\n      <td>313165</td>\n      <td>א</td>\n      <td>313165a40</td>\n      <td>313165a</td>\n      <td>15145</td>\n      <td>1</td>\n      <td>#</td>\n      <td>חולון עירוני ומטרופוליני+תחרות חולון</td>\n      <td>40</td>\n      <td>36388</td>\n      <td>...</td>\n      <td>2024-07-04 12:17:10</td>\n      <td>NaT</td>\n      <td>True</td>\n      <td>32.032370</td>\n      <td>34.767900</td>\n      <td>0</td>\n      <td>2.333333</td>\n      <td>0.000000</td>\n      <td>12.362385</td>\n      <td>11</td>\n    </tr>\n  </tbody>\n</table>\n<p>32221 rows × 21 columns</p>\n</div>"
     },
     "execution_count": 50,
     "metadata": {},
     "output_type": "execute_result"
    }
   ],
   "source": [
    "X"
   ],
   "metadata": {
    "collapsed": false,
    "ExecuteTime": {
     "end_time": "2024-07-04T13:45:51.921472400Z",
     "start_time": "2024-07-04T13:45:51.852006500Z"
    }
   },
   "id": "8cf9b2eb5158f4e2"
  },
  {
   "cell_type": "code",
   "execution_count": 66,
   "outputs": [],
   "source": [],
   "metadata": {
    "collapsed": false,
    "ExecuteTime": {
     "end_time": "2024-07-04T13:59:50.525488Z",
     "start_time": "2024-07-04T13:59:50.466933800Z"
    }
   },
   "id": "f8cb6018163d4d9c"
  },
  {
   "cell_type": "code",
   "execution_count": null,
   "outputs": [],
   "source": [],
   "metadata": {
    "collapsed": false
   },
   "id": "ac4bb45a66859158"
  },
  {
   "cell_type": "code",
   "execution_count": null,
   "outputs": [],
   "source": [],
   "metadata": {
    "collapsed": false
   },
   "id": "a3dbb059ab2e355c"
  }
 ],
 "metadata": {
  "kernelspec": {
   "display_name": "Python 3",
   "language": "python",
   "name": "python3"
  },
  "language_info": {
   "codemirror_mode": {
    "name": "ipython",
    "version": 2
   },
   "file_extension": ".py",
   "mimetype": "text/x-python",
   "name": "python",
   "nbconvert_exporter": "python",
   "pygments_lexer": "ipython2",
   "version": "2.7.6"
  }
 },
 "nbformat": 4,
 "nbformat_minor": 5
}
